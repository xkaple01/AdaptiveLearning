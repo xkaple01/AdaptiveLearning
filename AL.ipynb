{
 "cells": [
  {
   "cell_type": "code",
   "execution_count": 1,
   "metadata": {},
   "outputs": [],
   "source": [
    "import ast\n",
    "import astunparse\n",
    "import csv\n",
    "import numpy as np\n",
    "from pybase64 import b64decode\n",
    "from typing import List\n",
    "from collections import defaultdict\n",
    "from six.moves import zip_longest"
   ]
  },
  {
   "cell_type": "code",
   "execution_count": 2,
   "metadata": {},
   "outputs": [],
   "source": [
    "class RedundantIfElseDetector(ast.NodeVisitor):\n",
    "    '''\n",
    "    Detects: \n",
    "\n",
    "    if cond:\n",
    "        return True\n",
    "    else:\n",
    "        return False\n",
    "\n",
    "    Advises:\n",
    "\n",
    "    return cond\n",
    "    '''\n",
    "    def __init__(self, print_hint=False) -> None:\n",
    "        super().__init__()\n",
    "        self.print_hint = print_hint\n",
    "\n",
    "    def _compose_hint(self, node: ast.If) -> None:\n",
    "        correct_code_tree = ast.Return(value=node.test, kind=None)\n",
    "        correct_code_str = astunparse.unparse(correct_code_tree)\n",
    "        user_code_str = astunparse.unparse(node)\n",
    "        self.hint = (\n",
    "            \"\\n\\nUse \\n\"\n",
    "            f\"{correct_code_str}\"\n",
    "            \"\\n\\nInstead of \\n\"\n",
    "            f\"{user_code_str}\"\n",
    "        )\n",
    "        if self.print_hint:\n",
    "            print(self.hint)\n",
    "\n",
    "    def visit_If(self, node: ast.If) -> None:\n",
    "        body_if: List = node.body\n",
    "        orelse: List = node.orelse\n",
    "\n",
    "        if (\n",
    "            len(body_if) == 1\n",
    "            and isinstance(body_if[0], ast.Return)\n",
    "            and isinstance(body_if[0].value, ast.Constant)\n",
    "            and body_if[0].value.value is True\n",
    "\n",
    "            and len(orelse) == 1\n",
    "            and isinstance(orelse[0], ast.Return)\n",
    "            and isinstance(orelse[0].value, ast.Constant)\n",
    "            and orelse[0].value.value is False\n",
    "        ):\n",
    "            self.detected = True\n",
    "            self._compose_hint(node)\n",
    "\n",
    "    def detect_and_show_hint(self, code: str) -> None:\n",
    "        self.user_code = None\n",
    "        self.hint = None\n",
    "        self.detected = False\n",
    "        \n",
    "        try:\n",
    "            parsed = ast.parse(code)\n",
    "        except Exception:\n",
    "            # ignore solutions where the code can not be executed (due to the user indentation errors - tabs, incorrect spacing) \n",
    "            return\n",
    "\n",
    "        self.visit(parsed)\n",
    "\n",
    "        if self.detected:\n",
    "            self.user_code = code"
   ]
  },
  {
   "cell_type": "code",
   "execution_count": 3,
   "metadata": {},
   "outputs": [],
   "source": [
    "class Runner:\n",
    "    def __init__(self, detector) -> None:\n",
    "        self.detector = detector\n",
    "        self.task_ids = []\n",
    "        self.user_codes = []\n",
    "        self.hints = []\n",
    "        self.counter_task_solutions = defaultdict(lambda: 0)\n",
    "        self.counter_task_errors = defaultdict(lambda: 0)\n",
    "\n",
    "    def run(self):\n",
    "        task_order = 0\n",
    "        task_ids = []\n",
    "        with open('./solutions-ipython.csv') as csv_file:\n",
    "            csv_reader = csv.reader(csv_file, delimiter=';')\n",
    "            next(csv_reader)\n",
    "    \n",
    "            for idx, row in enumerate(csv_reader):\n",
    "                task_id = row[1]\n",
    "                solution_encoded = row[2]\n",
    "                solution_decoded = b64decode(solution_encoded).decode(\"utf-8\")\n",
    "                \n",
    "                # self.counter_task_solutions[task_id] += 1\n",
    "                self.counter_task_solutions[task_order] += 1\n",
    "                self.detector.detect_and_show_hint(code=solution_decoded)\n",
    "\n",
    "                if self.detector.detected:\n",
    "                    # self.counter_task_errors[task_id] += 1\n",
    "                    self.counter_task_errors[task_order] += 1\n",
    "                    self.task_ids.append(task_id)\n",
    "                    self.user_codes.append(self.detector.user_code)\n",
    "                    self.hints.append(self.detector.hint)\n",
    "\n",
    "                if task_id not in task_ids:\n",
    "                    task_ids.append(task_id)\n",
    "                    task_order += 1\n",
    "\n",
    "        print(f\"Total number of detected errors: {len(self.hints)}\")\n",
    "\n",
    "    def increment_counter(self, counter, task_id):\n",
    "        if task_id not in counter.keys():\n",
    "            counter[task_id] = 1\n",
    "        else:\n",
    "            counter[task_id] += 1\n",
    "    \n",
    "    def display_detected_error(self, error_idx):\n",
    "        print(\n",
    "            \"User code: \\n\",\n",
    "            self.user_codes[error_idx],\n",
    "        )\n",
    "        print(\"\\n------------------\\n\")\n",
    "        print(\n",
    "            \"Hint: \\n\",\n",
    "            self.hints[error_idx],\n",
    "        )\n"
   ]
  },
  {
   "cell_type": "code",
   "execution_count": 4,
   "metadata": {},
   "outputs": [
    {
     "output_type": "stream",
     "name": "stdout",
     "text": [
      "Total number of detected errors: 3168\n"
     ]
    }
   ],
   "source": [
    "runner_redundant_if_else_detector = Runner(detector=RedundantIfElseDetector())\n",
    "runner_redundant_if_else_detector.run()"
   ]
  },
  {
   "cell_type": "code",
   "execution_count": 5,
   "metadata": {},
   "outputs": [
    {
     "output_type": "stream",
     "name": "stdout",
     "text": [
      "User code: \n def is_triangle(a, b, c):\n    if (a+b>c)and(a+c>b)and(c+b>a):\n        return True\n    else: return False\n\n\n------------------\n\nHint: \n \n\nUse \n\nreturn (((a + b) > c) and ((a + c) > b) and ((c + b) > a))\n\n\nInstead of \n\nif (((a + b) > c) and ((a + c) > b) and ((c + b) > a)):\n    return True\nelse:\n    return False\n\n"
     ]
    }
   ],
   "source": [
    "runner_redundant_if_else_detector.display_detected_error(error_idx=3000)"
   ]
  },
  {
   "cell_type": "code",
   "execution_count": 6,
   "metadata": {},
   "outputs": [],
   "source": [
    "class RedundantElifDetector(ast.NodeVisitor):\n",
    "    '''\n",
    "    Detects: \n",
    "\n",
    "    if cond_1:\n",
    "        body_1\n",
    "    ...\n",
    "    elif cond_n:\n",
    "        body_n\n",
    "\n",
    "\n",
    "    Advises:\n",
    "\n",
    "    if cond_1:\n",
    "        body_1\n",
    "    ...\n",
    "    else:\n",
    "        body_n\n",
    "\n",
    "\n",
    "    Bonus:\n",
    "    \n",
    "    Removes unreacheable code\n",
    "\n",
    "    '''\n",
    "    def __init__(self, print_hint=False) -> None:\n",
    "        super().__init__()\n",
    "        self.print_hint = print_hint\n",
    "\n",
    "    def _check_ops_2_branches(self, ops):\n",
    "        self.error_detected_2_branches = False\n",
    "        if len(ops) == 2:\n",
    "            op_sets = [\n",
    "                set([ast.Eq, ast.NotEq]),\n",
    "                set([ast.GtE, ast.Lt]),\n",
    "                set([ast.LtE, ast.Gt]),\n",
    "            ]    \n",
    "            for op_set in op_sets:\n",
    "                if (set([type(op) for op in ops]) == op_set):\n",
    "                    self.error_detected_2_branches = True\n",
    "                    break\n",
    "        \n",
    "    def _check_ops_3_branches(self, ops):\n",
    "        self.error_detected_3_branches = False\n",
    "        if len(ops) == 3:\n",
    "            op_set = set([ast.Gt, ast.Lt, ast.Eq])\n",
    "            self.error_detected_3_branches = (set([type(op) for op in ops]) == op_set)\n",
    "\n",
    "    def _compose_hint(self, correct_code_tree, user_code_tree):\n",
    "        correct_code_str = astunparse.unparse(correct_code_tree)\n",
    "        user_code_str = astunparse.unparse(user_code_tree)\n",
    "        self.hint = (\n",
    "            \"\\n\\nUse \\n\"\n",
    "            f\"{correct_code_str}\"\n",
    "            \"\\n\\nInstead of \\n\"\n",
    "            f\"{user_code_str}\"\n",
    "        )\n",
    "        if self.print_hint:\n",
    "            print(self.hint)\n",
    "\n",
    "    def _compose_hint_ast_2_branches(self, if_node: ast.If):\n",
    "        correct_code_tree = ast.If(\n",
    "            test=if_node.test,\n",
    "            body=if_node.body,\n",
    "            orelse=if_node.orelse[0].body, \n",
    "        )\n",
    "        self._compose_hint(correct_code_tree, if_node)\n",
    "\n",
    "    def _compose_hint_ast_3_branches(self, if_node: ast.If):\n",
    "        correct_code_tree = ast.If(\n",
    "            test=if_node.test,\n",
    "            body=if_node.body,\n",
    "            orelse=[ast.If(\n",
    "                test=if_node.orelse[0].test,\n",
    "                body=if_node.orelse[0].body,\n",
    "                orelse=if_node.orelse[0].orelse[0].body,\n",
    "            )],\n",
    "        )\n",
    "        self._compose_hint(correct_code_tree, if_node)\n",
    "\n",
    "    def _parse_if_node_level(self, if_node: ast.If):\n",
    "        parsed_success = False\n",
    "        left, comparators, ops, orelse = None, None, None, None\n",
    "        \n",
    "        if isinstance(if_node.test, ast.Compare):\n",
    "            compare: ast.Compare = if_node.test\n",
    "            left: str = astunparse.unparse(compare.left)\n",
    "            comparators: str = astunparse.unparse(compare.comparators)\n",
    "            ops: List = compare.ops\n",
    "            orelse: List = if_node.orelse\n",
    "            parsed_success = True\n",
    "\n",
    "        return parsed_success, left, comparators, ops, orelse\n",
    "\n",
    "    def _detect_error_2_branches(self, if_node: ast.If):\n",
    "        check_next_branch = False\n",
    "        left_2, comparators_2, ops, orelse_2 = None, None, None, None\n",
    "\n",
    "        parsed_success, left_1, comparators_1, ops_1, orelse_1 = self._parse_if_node_level(if_node)\n",
    "\n",
    "        if parsed_success and len(orelse_1) == 1 and isinstance(orelse_1[0], ast.If):\n",
    "            elif_node: ast.If = orelse_1[0]\n",
    "            parsed_success, left_2, comparators_2, ops_2, orelse_2 = self._parse_if_node_level(elif_node)\n",
    "\n",
    "            if parsed_success and left_1 == left_2 and comparators_1 == comparators_2:\n",
    "                ops = ops_1 + ops_2\n",
    "                self._check_ops_2_branches(ops)\n",
    "                check_next_branch = True\n",
    "                \n",
    "                if self.error_detected_2_branches:\n",
    "                    self._compose_hint_ast_2_branches(if_node)\n",
    "        \n",
    "        return check_next_branch, left_2, comparators_2, ops, orelse_2\n",
    "    \n",
    "    def _detect_error_3_branches(self, if_node: ast.If, left_2, comparators_2, ops, orelse_2):\n",
    "        if len(orelse_2) == 1 and isinstance(orelse_2[0], ast.If):\n",
    "            elif_node: ast.If = orelse_2[0]\n",
    "            parsed_success, left_3, comparators_3, ops_3, _ = self._parse_if_node_level(elif_node)\n",
    "\n",
    "            if parsed_success and left_3 == left_2 and comparators_2 == comparators_3:\n",
    "                ops = ops + ops_3\n",
    "                self._check_ops_3_branches(ops)\n",
    "\n",
    "                if self.error_detected_3_branches:\n",
    "                    self._compose_hint_ast_3_branches(if_node)\n",
    "    \n",
    "    def visit_If(self, if_node: ast.If) -> None:\n",
    "        check_next_branch, left_2, comparators_2, ops, orelse_2 = self._detect_error_2_branches(if_node)\n",
    "\n",
    "        if self.error_detected_2_branches:\n",
    "            return\n",
    "\n",
    "        if check_next_branch:\n",
    "            self._detect_error_3_branches(if_node, left_2, comparators_2, ops, orelse_2)    \n",
    "\n",
    "    def detect_and_show_hint(self, code: str) -> None:\n",
    "        self.user_code = None\n",
    "        self.hint = None\n",
    "        self.error_detected_2_branches = False\n",
    "        self.error_detected_3_branches = False\n",
    "\n",
    "        try:\n",
    "            parsed = ast.parse(code)\n",
    "        except Exception:\n",
    "            # ignore solutions where the code can not be executed (due to the user indentation errors - tabs, incorrect spacing) \n",
    "            return\n",
    "\n",
    "        self.visit(parsed)\n",
    "\n",
    "        self.detected = self.error_detected_2_branches or self.error_detected_3_branches\n",
    "\n",
    "        if self.detected:\n",
    "            self.user_code = code"
   ]
  },
  {
   "cell_type": "code",
   "execution_count": 7,
   "metadata": {},
   "outputs": [
    {
     "output_type": "stream",
     "name": "stdout",
     "text": [
      "Total number of detected errors: 309\n"
     ]
    }
   ],
   "source": [
    "runner_redundant_elif_detector = Runner(detector=RedundantElifDetector())\n",
    "runner_redundant_elif_detector.run()"
   ]
  },
  {
   "cell_type": "code",
   "execution_count": 8,
   "metadata": {},
   "outputs": [
    {
     "output_type": "stream",
     "name": "stdout",
     "text": [
      "User code: \n def check(p, k):\n    if p==4*k:\n        print(\"OK\")\n    elif p > 4*k:\n        print(\"Prebyva:\", p-4*k)\n    elif p < 4*k:\n        print(\"Chybi:\", abs(p-4*k))\n    else:\n        print(\"Incorrect Ex\")\n\n------------------\n\nHint: \n \n\nUse \n\nif (p == (4 * k)):\n    print('OK')\nelif (p > (4 * k)):\n    print('Prebyva:', (p - (4 * k)))\nelse:\n    print('Chybi:', abs((p - (4 * k))))\n\n\nInstead of \n\nif (p == (4 * k)):\n    print('OK')\nelif (p > (4 * k)):\n    print('Prebyva:', (p - (4 * k)))\nelif (p < (4 * k)):\n    print('Chybi:', abs((p - (4 * k))))\nelse:\n    print('Incorrect Ex')\n\n"
     ]
    }
   ],
   "source": [
    "runner_redundant_elif_detector.display_detected_error(error_idx=230)"
   ]
  },
  {
   "cell_type": "code",
   "execution_count": 9,
   "metadata": {},
   "outputs": [],
   "source": [
    "class DuplicatedSegment:\n",
    "    def __init__(self, segment_idx: int, line_idxs: List[int]):\n",
    "        self.segment_idx = segment_idx\n",
    "        self.line_idxs = line_idxs\n",
    "        self.extended = False\n",
    "\n",
    "class DuplicatedCodeDetector:\n",
    "    def _compare_ast(self, left, right):\n",
    "        \"\"\"Compare two abstract syntax trees.\n",
    "        Return `None` if they are equal, and raise an exception otherwise.\n",
    "        \"\"\"\n",
    "        assert type(left) == type(right)\n",
    "    \n",
    "        if isinstance(left, ast.AST):\n",
    "            left_fields = ast.iter_fields(left)\n",
    "            right_fields = ast.iter_fields(right)\n",
    "            for left_field, right_field in zip_longest(\n",
    "                left_fields, right_fields, fillvalue=\"\"\n",
    "            ):\n",
    "                left_name, left_values = left_field\n",
    "                right_name, right_values = right_field\n",
    "                assert left_name == right_name\n",
    "                self._compare_ast(left_values, right_values)\n",
    "\n",
    "        elif isinstance(left, list):\n",
    "            for left_child, right_child in zip_longest(left, right, fillvalue=\"\"):\n",
    "                self._compare_ast(left_child, right_child)\n",
    "\n",
    "        else:\n",
    "            assert left == right\n",
    "    \n",
    "    def _get_child_nodes(self, node: ast.AST) -> None:\n",
    "        self._nodes.extend(node.body)\n",
    "        for n in ast.iter_child_nodes(node):\n",
    "            if hasattr(n, \"body\"):\n",
    "                self._get_child_nodes(n)\n",
    "\n",
    "    def _get_duplicity_matrix_base(self, root_node: ast.AST) -> None:\n",
    "        self._get_child_nodes(root_node)\n",
    "        self._nodes.sort(key=lambda n: n.lineno)\n",
    "\n",
    "    def _compute_duplicity_matrix_entry(self, node_1, node_2):\n",
    "        identical_asts = True\n",
    "        try:\n",
    "            self._compare_ast(left=node_1, right=node_2)\n",
    "        except Exception:\n",
    "            identical_asts = False\n",
    "        \n",
    "        return float(identical_asts)\n",
    "    \n",
    "    def _compute_duplicity_matrix(self):\n",
    "        n_nodes = len(self._nodes)\n",
    "        self._duplicity_matrix = np.zeros((n_nodes, n_nodes), dtype=np.float32)\n",
    "        for i in range(n_nodes):\n",
    "            for j in range(n_nodes):\n",
    "                self._duplicity_matrix[i, j] = self._compute_duplicity_matrix_entry(\n",
    "                    self._nodes[i],\n",
    "                    self._nodes[j]\n",
    "                ) if i != j else 1.0\n",
    "\n",
    "    def _analyze_duplicity_matrix(self):\n",
    "        n_nodes = len(self._nodes)\n",
    "\n",
    "        for i in range(n_nodes):\n",
    "            for j in range(i+1, n_nodes):\n",
    "                if self._duplicity_matrix[i][j] == 1.0:\n",
    "                    appended = self._append_line_idxs_to_segment(i, j)\n",
    "                    if not appended:\n",
    "                        self._create_new_segment(i, j)\n",
    "\n",
    "    def _append_line_idxs_to_segment(self, i, j):\n",
    "        appended = False      \n",
    "        for segment in self._duplicite_code_segments:\n",
    "            if self._nodes[i].lineno in segment.line_idxs:\n",
    "                segment.line_idxs.append(self._nodes[j].lineno)\n",
    "                appended = True        \n",
    "            elif self._nodes[i].lineno - 1 in segment.line_idxs and self._nodes[j].lineno - 1 in segment.line_idxs:\n",
    "                segment.line_idxs.append(self._nodes[i].lineno)\n",
    "                segment.line_idxs.append(self._nodes[j].lineno)\n",
    "                segment.extended = True\n",
    "                appended = True\n",
    "        \n",
    "        return appended\n",
    "\n",
    "    def _remove_short_segments(self):\n",
    "        duplicite_code_segments = []\n",
    "        for segment in self._duplicite_code_segments:\n",
    "            if segment.extended:\n",
    "                duplicite_code_segments.append(segment)\n",
    "\n",
    "        self._duplicite_code_segments = duplicite_code_segments\n",
    "\n",
    "    def _create_new_segment(self, i, j):\n",
    "        segment = DuplicatedSegment(\n",
    "            segment_idx=len(self._duplicite_code_segments),\n",
    "            line_idxs=[self._nodes[i].lineno, self._nodes[j].lineno],\n",
    "        )\n",
    "        self._duplicite_code_segments.append(segment)\n",
    "\n",
    "    def _compose_hint(self, code):\n",
    "        code_strings = code.split('\\n')\n",
    "        self.hint: List[str] = []\n",
    "        for lineno, code_string in enumerate(code_strings):\n",
    "            string_is_part_of_duplicated_segment = False\n",
    "            segment_idx = None\n",
    "            for segment in self._duplicite_code_segments:\n",
    "                if lineno + 1 in segment.line_idxs:\n",
    "                    string_is_part_of_duplicated_segment = True\n",
    "                    segment_idx = segment.segment_idx\n",
    "    \n",
    "            if string_is_part_of_duplicated_segment:\n",
    "                code_string += f\"               : {segment_idx}\"\n",
    "    \n",
    "            self.hint.append(code_string)\n",
    "    \n",
    "    def _check_detected(self):\n",
    "        self.detected = len(self._duplicite_code_segments) > 0\n",
    "    \n",
    "    def detect_and_show_hint(self, code: str) -> None:\n",
    "        self.user_code = None\n",
    "        self.hint = None\n",
    "        self.detected = False\n",
    "\n",
    "        self._nodes: List[ast.AST] = []\n",
    "        self._duplicity_matrix: np.ndarray = None\n",
    "        self._duplicite_code_segments: List[DuplicatedSegment] = []\n",
    "\n",
    "        try:\n",
    "            parsed = ast.parse(code)\n",
    "        except Exception:\n",
    "            # ignore solutions where the code can not be executed (due to the user indentation errors - tabs, incorrect spacing) \n",
    "            return\n",
    "\n",
    "        self._get_duplicity_matrix_base(parsed)\n",
    "        self._compute_duplicity_matrix()\n",
    "        self._analyze_duplicity_matrix()\n",
    "        self._remove_short_segments()\n",
    "        self._check_detected()\n",
    "            \n",
    "        if self.detected:\n",
    "            self.user_code = code\n",
    "            self._compose_hint(code)"
   ]
  },
  {
   "cell_type": "code",
   "execution_count": 10,
   "metadata": {},
   "outputs": [
    {
     "output_type": "stream",
     "name": "stdout",
     "text": [
      "Total number of detected errors: 369\n"
     ]
    }
   ],
   "source": [
    "runner_duplicated_code_detector = Runner(detector=DuplicatedCodeDetector())\n",
    "runner_duplicated_code_detector.run()"
   ]
  },
  {
   "cell_type": "code",
   "execution_count": 11,
   "metadata": {},
   "outputs": [
    {
     "output_type": "execute_result",
     "data": {
      "text/plain": [
       "['def animals(n):',\n",
       " '\\tfor i in range(n):',\n",
       " '   \\t \\tprint(\"sob\")',\n",
       " '\\tfor i in range(n):               : 0',\n",
       " '   \\t \\tprint(\"los\")               : 0',\n",
       " '\\tfor i in range(n):               : 0',\n",
       " '   \\t \\tprint(\"los\")               : 0']"
      ]
     },
     "metadata": {},
     "execution_count": 11
    }
   ],
   "source": [
    "runner_duplicated_code_detector.hints[2]"
   ]
  },
  {
   "cell_type": "code",
   "execution_count": 12,
   "metadata": {},
   "outputs": [],
   "source": [
    "import plotly.graph_objects as go\n",
    "import math"
   ]
  },
  {
   "cell_type": "code",
   "execution_count": 13,
   "metadata": {},
   "outputs": [],
   "source": [
    "class VisualizerBarChart:\n",
    "    def __init__(self, detector_name, counter_task_solutions, counter_task_errors):\n",
    "        self.detector_name = detector_name\n",
    "        self.counter_task_solutions = counter_task_solutions\n",
    "        self.counter_task_errors = counter_task_errors\n",
    "\n",
    "    def _process_data(self):\n",
    "        self.task_order = []\n",
    "        self.num_errors = []\n",
    "        self.error_rates = []\n",
    "        self.hover_texts = []\n",
    "        for task_order_idx in sorted(self.counter_task_solutions.keys()):\n",
    "            n_errors = self.counter_task_errors[task_order_idx]\n",
    "            n_solutions = self.counter_task_solutions[task_order_idx]            \n",
    "            error_rate = round(n_errors / n_solutions, 4)\n",
    "            self.task_order.append(task_order_idx)\n",
    "            self.num_errors.append(n_errors)\n",
    "            self.error_rates.append(error_rate)\n",
    "            self.hover_texts.append(\n",
    "                f\"Task_order: {task_order_idx} <br>\"\n",
    "                f\"Number of detected errors: {n_errors} <br>\"\n",
    "                f\"Number of solutions: {n_solutions} <br>\"\n",
    "                f\"Error rate: {error_rate} <br>\"\n",
    "            )\n",
    "\n",
    "    def display_visualization(self):\n",
    "        self._process_data()\n",
    "        fig = go.Figure(\n",
    "            layout=go.Layout(\n",
    "                    title=dict(\n",
    "                        text=f\"<b> {self.detector_name}: Number of errors v. Task order </b>\",\n",
    "                        x=0.5,\n",
    "                    ),\n",
    "                    xaxis=dict(\n",
    "                        title=\"Task order\",\n",
    "                        type=\"linear\",\n",
    "                        dtick=3,\n",
    "                    ),\n",
    "                    yaxis=dict(\n",
    "                        title=\"Number of errors\",\n",
    "                    ),\n",
    "                ),\n",
    "            data=[\n",
    "                go.Bar(\n",
    "                    x=self.task_order,\n",
    "                    y=self.error_rates,\n",
    "                    text=self.hover_texts,\n",
    "                )\n",
    "            ]\n",
    "        )\n",
    "        fig.show()\n",
    "        return fig\n"
   ]
  },
  {
   "cell_type": "code",
   "execution_count": 14,
   "metadata": {},
   "outputs": [
    {
     "output_type": "display_data",
     "data": {
      "application/vnd.plotly.v1+json": {
       "config": {
        "plotlyServerURL": "https://plotly.com"
       },
       "data": [
        {
         "text": [
          "Task_order: 0 <br>Number of detected errors: 0 <br>Number of solutions: 1 <br>Error rate: 0.0 <br>",
          "Task_order: 1 <br>Number of detected errors: 0 <br>Number of solutions: 1126 <br>Error rate: 0.0 <br>",
          "Task_order: 2 <br>Number of detected errors: 0 <br>Number of solutions: 2202 <br>Error rate: 0.0 <br>",
          "Task_order: 3 <br>Number of detected errors: 0 <br>Number of solutions: 446 <br>Error rate: 0.0 <br>",
          "Task_order: 4 <br>Number of detected errors: 0 <br>Number of solutions: 1480 <br>Error rate: 0.0 <br>",
          "Task_order: 5 <br>Number of detected errors: 1 <br>Number of solutions: 1082 <br>Error rate: 0.0009 <br>",
          "Task_order: 6 <br>Number of detected errors: 0 <br>Number of solutions: 765 <br>Error rate: 0.0 <br>",
          "Task_order: 7 <br>Number of detected errors: 0 <br>Number of solutions: 694 <br>Error rate: 0.0 <br>",
          "Task_order: 8 <br>Number of detected errors: 0 <br>Number of solutions: 655 <br>Error rate: 0.0 <br>",
          "Task_order: 9 <br>Number of detected errors: 0 <br>Number of solutions: 628 <br>Error rate: 0.0 <br>",
          "Task_order: 10 <br>Number of detected errors: 2 <br>Number of solutions: 635 <br>Error rate: 0.0031 <br>",
          "Task_order: 11 <br>Number of detected errors: 0 <br>Number of solutions: 535 <br>Error rate: 0.0 <br>",
          "Task_order: 12 <br>Number of detected errors: 0 <br>Number of solutions: 524 <br>Error rate: 0.0 <br>",
          "Task_order: 13 <br>Number of detected errors: 0 <br>Number of solutions: 1636 <br>Error rate: 0.0 <br>",
          "Task_order: 14 <br>Number of detected errors: 1 <br>Number of solutions: 1449 <br>Error rate: 0.0007 <br>",
          "Task_order: 15 <br>Number of detected errors: 0 <br>Number of solutions: 1839 <br>Error rate: 0.0 <br>",
          "Task_order: 16 <br>Number of detected errors: 3 <br>Number of solutions: 860 <br>Error rate: 0.0035 <br>",
          "Task_order: 17 <br>Number of detected errors: 14 <br>Number of solutions: 753 <br>Error rate: 0.0186 <br>",
          "Task_order: 18 <br>Number of detected errors: 0 <br>Number of solutions: 525 <br>Error rate: 0.0 <br>",
          "Task_order: 19 <br>Number of detected errors: 0 <br>Number of solutions: 465 <br>Error rate: 0.0 <br>",
          "Task_order: 20 <br>Number of detected errors: 0 <br>Number of solutions: 555 <br>Error rate: 0.0 <br>",
          "Task_order: 21 <br>Number of detected errors: 0 <br>Number of solutions: 544 <br>Error rate: 0.0 <br>",
          "Task_order: 22 <br>Number of detected errors: 3 <br>Number of solutions: 507 <br>Error rate: 0.0059 <br>",
          "Task_order: 23 <br>Number of detected errors: 61 <br>Number of solutions: 409 <br>Error rate: 0.1491 <br>",
          "Task_order: 24 <br>Number of detected errors: 18 <br>Number of solutions: 286 <br>Error rate: 0.0629 <br>",
          "Task_order: 25 <br>Number of detected errors: 0 <br>Number of solutions: 1293 <br>Error rate: 0.0 <br>",
          "Task_order: 26 <br>Number of detected errors: 0 <br>Number of solutions: 1780 <br>Error rate: 0.0 <br>",
          "Task_order: 27 <br>Number of detected errors: 8 <br>Number of solutions: 1394 <br>Error rate: 0.0057 <br>",
          "Task_order: 28 <br>Number of detected errors: 2 <br>Number of solutions: 989 <br>Error rate: 0.002 <br>",
          "Task_order: 29 <br>Number of detected errors: 1 <br>Number of solutions: 789 <br>Error rate: 0.0013 <br>",
          "Task_order: 30 <br>Number of detected errors: 0 <br>Number of solutions: 880 <br>Error rate: 0.0 <br>",
          "Task_order: 31 <br>Number of detected errors: 0 <br>Number of solutions: 817 <br>Error rate: 0.0 <br>",
          "Task_order: 32 <br>Number of detected errors: 0 <br>Number of solutions: 727 <br>Error rate: 0.0 <br>",
          "Task_order: 33 <br>Number of detected errors: 0 <br>Number of solutions: 757 <br>Error rate: 0.0 <br>",
          "Task_order: 34 <br>Number of detected errors: 4 <br>Number of solutions: 573 <br>Error rate: 0.007 <br>",
          "Task_order: 35 <br>Number of detected errors: 14 <br>Number of solutions: 623 <br>Error rate: 0.0225 <br>",
          "Task_order: 36 <br>Number of detected errors: 0 <br>Number of solutions: 571 <br>Error rate: 0.0 <br>",
          "Task_order: 37 <br>Number of detected errors: 0 <br>Number of solutions: 415 <br>Error rate: 0.0 <br>",
          "Task_order: 38 <br>Number of detected errors: 0 <br>Number of solutions: 465 <br>Error rate: 0.0 <br>",
          "Task_order: 39 <br>Number of detected errors: 0 <br>Number of solutions: 428 <br>Error rate: 0.0 <br>",
          "Task_order: 40 <br>Number of detected errors: 0 <br>Number of solutions: 362 <br>Error rate: 0.0 <br>",
          "Task_order: 41 <br>Number of detected errors: 0 <br>Number of solutions: 587 <br>Error rate: 0.0 <br>",
          "Task_order: 42 <br>Number of detected errors: 21 <br>Number of solutions: 421 <br>Error rate: 0.0499 <br>",
          "Task_order: 43 <br>Number of detected errors: 7 <br>Number of solutions: 377 <br>Error rate: 0.0186 <br>",
          "Task_order: 44 <br>Number of detected errors: 9 <br>Number of solutions: 280 <br>Error rate: 0.0321 <br>",
          "Task_order: 45 <br>Number of detected errors: 0 <br>Number of solutions: 329 <br>Error rate: 0.0 <br>",
          "Task_order: 46 <br>Number of detected errors: 2 <br>Number of solutions: 473 <br>Error rate: 0.0042 <br>",
          "Task_order: 47 <br>Number of detected errors: 1 <br>Number of solutions: 406 <br>Error rate: 0.0025 <br>",
          "Task_order: 48 <br>Number of detected errors: 0 <br>Number of solutions: 426 <br>Error rate: 0.0 <br>",
          "Task_order: 49 <br>Number of detected errors: 0 <br>Number of solutions: 384 <br>Error rate: 0.0 <br>",
          "Task_order: 50 <br>Number of detected errors: 0 <br>Number of solutions: 409 <br>Error rate: 0.0 <br>",
          "Task_order: 51 <br>Number of detected errors: 0 <br>Number of solutions: 248 <br>Error rate: 0.0 <br>",
          "Task_order: 52 <br>Number of detected errors: 0 <br>Number of solutions: 310 <br>Error rate: 0.0 <br>",
          "Task_order: 53 <br>Number of detected errors: 1 <br>Number of solutions: 330 <br>Error rate: 0.003 <br>",
          "Task_order: 54 <br>Number of detected errors: 4 <br>Number of solutions: 297 <br>Error rate: 0.0135 <br>",
          "Task_order: 55 <br>Number of detected errors: 0 <br>Number of solutions: 255 <br>Error rate: 0.0 <br>",
          "Task_order: 56 <br>Number of detected errors: 3 <br>Number of solutions: 284 <br>Error rate: 0.0106 <br>",
          "Task_order: 57 <br>Number of detected errors: 0 <br>Number of solutions: 264 <br>Error rate: 0.0 <br>",
          "Task_order: 58 <br>Number of detected errors: 1 <br>Number of solutions: 189 <br>Error rate: 0.0053 <br>",
          "Task_order: 59 <br>Number of detected errors: 53 <br>Number of solutions: 500 <br>Error rate: 0.106 <br>",
          "Task_order: 60 <br>Number of detected errors: 0 <br>Number of solutions: 150 <br>Error rate: 0.0 <br>",
          "Task_order: 61 <br>Number of detected errors: 2 <br>Number of solutions: 302 <br>Error rate: 0.0066 <br>",
          "Task_order: 62 <br>Number of detected errors: 14 <br>Number of solutions: 342 <br>Error rate: 0.0409 <br>",
          "Task_order: 63 <br>Number of detected errors: 7 <br>Number of solutions: 120 <br>Error rate: 0.0583 <br>",
          "Task_order: 64 <br>Number of detected errors: 16 <br>Number of solutions: 219 <br>Error rate: 0.0731 <br>",
          "Task_order: 65 <br>Number of detected errors: 9 <br>Number of solutions: 225 <br>Error rate: 0.04 <br>",
          "Task_order: 66 <br>Number of detected errors: 2 <br>Number of solutions: 232 <br>Error rate: 0.0086 <br>",
          "Task_order: 67 <br>Number of detected errors: 0 <br>Number of solutions: 303 <br>Error rate: 0.0 <br>",
          "Task_order: 68 <br>Number of detected errors: 14 <br>Number of solutions: 194 <br>Error rate: 0.0722 <br>",
          "Task_order: 69 <br>Number of detected errors: 3 <br>Number of solutions: 55 <br>Error rate: 0.0545 <br>",
          "Task_order: 70 <br>Number of detected errors: 16 <br>Number of solutions: 164 <br>Error rate: 0.0976 <br>",
          "Task_order: 71 <br>Number of detected errors: 2 <br>Number of solutions: 222 <br>Error rate: 0.009 <br>",
          "Task_order: 72 <br>Number of detected errors: 7 <br>Number of solutions: 160 <br>Error rate: 0.0437 <br>",
          "Task_order: 73 <br>Number of detected errors: 0 <br>Number of solutions: 140 <br>Error rate: 0.0 <br>",
          "Task_order: 74 <br>Number of detected errors: 0 <br>Number of solutions: 596 <br>Error rate: 0.0 <br>",
          "Task_order: 75 <br>Number of detected errors: 0 <br>Number of solutions: 208 <br>Error rate: 0.0 <br>",
          "Task_order: 76 <br>Number of detected errors: 0 <br>Number of solutions: 208 <br>Error rate: 0.0 <br>",
          "Task_order: 77 <br>Number of detected errors: 0 <br>Number of solutions: 305 <br>Error rate: 0.0 <br>",
          "Task_order: 78 <br>Number of detected errors: 8 <br>Number of solutions: 97 <br>Error rate: 0.0825 <br>",
          "Task_order: 79 <br>Number of detected errors: 0 <br>Number of solutions: 1111 <br>Error rate: 0.0 <br>",
          "Task_order: 80 <br>Number of detected errors: 0 <br>Number of solutions: 427 <br>Error rate: 0.0 <br>",
          "Task_order: 81 <br>Number of detected errors: 0 <br>Number of solutions: 401 <br>Error rate: 0.0 <br>",
          "Task_order: 82 <br>Number of detected errors: 1 <br>Number of solutions: 104 <br>Error rate: 0.0096 <br>",
          "Task_order: 83 <br>Number of detected errors: 2 <br>Number of solutions: 107 <br>Error rate: 0.0187 <br>",
          "Task_order: 84 <br>Number of detected errors: 0 <br>Number of solutions: 1298 <br>Error rate: 0.0 <br>",
          "Task_order: 85 <br>Number of detected errors: 0 <br>Number of solutions: 263 <br>Error rate: 0.0 <br>",
          "Task_order: 86 <br>Number of detected errors: 2 <br>Number of solutions: 208 <br>Error rate: 0.0096 <br>",
          "Task_order: 87 <br>Number of detected errors: 26 <br>Number of solutions: 145 <br>Error rate: 0.1793 <br>",
          "Task_order: 88 <br>Number of detected errors: 3 <br>Number of solutions: 228 <br>Error rate: 0.0132 <br>",
          "Task_order: 89 <br>Number of detected errors: 0 <br>Number of solutions: 374 <br>Error rate: 0.0 <br>",
          "Task_order: 90 <br>Number of detected errors: 1 <br>Number of solutions: 304 <br>Error rate: 0.0033 <br>",
          "Task_order: 91 <br>Number of detected errors: 0 <br>Number of solutions: 240 <br>Error rate: 0.0 <br>",
          "Task_order: 92 <br>Number of detected errors: 0 <br>Number of solutions: 187 <br>Error rate: 0.0 <br>",
          "Task_order: 93 <br>Number of detected errors: 0 <br>Number of solutions: 189 <br>Error rate: 0.0 <br>"
         ],
         "type": "bar",
         "x": [
          0,
          1,
          2,
          3,
          4,
          5,
          6,
          7,
          8,
          9,
          10,
          11,
          12,
          13,
          14,
          15,
          16,
          17,
          18,
          19,
          20,
          21,
          22,
          23,
          24,
          25,
          26,
          27,
          28,
          29,
          30,
          31,
          32,
          33,
          34,
          35,
          36,
          37,
          38,
          39,
          40,
          41,
          42,
          43,
          44,
          45,
          46,
          47,
          48,
          49,
          50,
          51,
          52,
          53,
          54,
          55,
          56,
          57,
          58,
          59,
          60,
          61,
          62,
          63,
          64,
          65,
          66,
          67,
          68,
          69,
          70,
          71,
          72,
          73,
          74,
          75,
          76,
          77,
          78,
          79,
          80,
          81,
          82,
          83,
          84,
          85,
          86,
          87,
          88,
          89,
          90,
          91,
          92,
          93
         ],
         "y": [
          0,
          0,
          0,
          0,
          0,
          0.0009,
          0,
          0,
          0,
          0,
          0.0031,
          0,
          0,
          0,
          0.0007,
          0,
          0.0035,
          0.0186,
          0,
          0,
          0,
          0,
          0.0059,
          0.1491,
          0.0629,
          0,
          0,
          0.0057,
          0.002,
          0.0013,
          0,
          0,
          0,
          0,
          0.007,
          0.0225,
          0,
          0,
          0,
          0,
          0,
          0,
          0.0499,
          0.0186,
          0.0321,
          0,
          0.0042,
          0.0025,
          0,
          0,
          0,
          0,
          0,
          0.003,
          0.0135,
          0,
          0.0106,
          0,
          0.0053,
          0.106,
          0,
          0.0066,
          0.0409,
          0.0583,
          0.0731,
          0.04,
          0.0086,
          0,
          0.0722,
          0.0545,
          0.0976,
          0.009,
          0.0437,
          0,
          0,
          0,
          0,
          0,
          0.0825,
          0,
          0,
          0,
          0.0096,
          0.0187,
          0,
          0,
          0.0096,
          0.1793,
          0.0132,
          0,
          0.0033,
          0,
          0,
          0
         ]
        }
       ],
       "layout": {
        "template": {
         "data": {
          "bar": [
           {
            "error_x": {
             "color": "#2a3f5f"
            },
            "error_y": {
             "color": "#2a3f5f"
            },
            "marker": {
             "line": {
              "color": "#E5ECF6",
              "width": 0.5
             }
            },
            "type": "bar"
           }
          ],
          "barpolar": [
           {
            "marker": {
             "line": {
              "color": "#E5ECF6",
              "width": 0.5
             }
            },
            "type": "barpolar"
           }
          ],
          "carpet": [
           {
            "aaxis": {
             "endlinecolor": "#2a3f5f",
             "gridcolor": "white",
             "linecolor": "white",
             "minorgridcolor": "white",
             "startlinecolor": "#2a3f5f"
            },
            "baxis": {
             "endlinecolor": "#2a3f5f",
             "gridcolor": "white",
             "linecolor": "white",
             "minorgridcolor": "white",
             "startlinecolor": "#2a3f5f"
            },
            "type": "carpet"
           }
          ],
          "choropleth": [
           {
            "colorbar": {
             "outlinewidth": 0,
             "ticks": ""
            },
            "type": "choropleth"
           }
          ],
          "contour": [
           {
            "colorbar": {
             "outlinewidth": 0,
             "ticks": ""
            },
            "colorscale": [
             [
              0,
              "#0d0887"
             ],
             [
              0.1111111111111111,
              "#46039f"
             ],
             [
              0.2222222222222222,
              "#7201a8"
             ],
             [
              0.3333333333333333,
              "#9c179e"
             ],
             [
              0.4444444444444444,
              "#bd3786"
             ],
             [
              0.5555555555555556,
              "#d8576b"
             ],
             [
              0.6666666666666666,
              "#ed7953"
             ],
             [
              0.7777777777777778,
              "#fb9f3a"
             ],
             [
              0.8888888888888888,
              "#fdca26"
             ],
             [
              1,
              "#f0f921"
             ]
            ],
            "type": "contour"
           }
          ],
          "contourcarpet": [
           {
            "colorbar": {
             "outlinewidth": 0,
             "ticks": ""
            },
            "type": "contourcarpet"
           }
          ],
          "heatmap": [
           {
            "colorbar": {
             "outlinewidth": 0,
             "ticks": ""
            },
            "colorscale": [
             [
              0,
              "#0d0887"
             ],
             [
              0.1111111111111111,
              "#46039f"
             ],
             [
              0.2222222222222222,
              "#7201a8"
             ],
             [
              0.3333333333333333,
              "#9c179e"
             ],
             [
              0.4444444444444444,
              "#bd3786"
             ],
             [
              0.5555555555555556,
              "#d8576b"
             ],
             [
              0.6666666666666666,
              "#ed7953"
             ],
             [
              0.7777777777777778,
              "#fb9f3a"
             ],
             [
              0.8888888888888888,
              "#fdca26"
             ],
             [
              1,
              "#f0f921"
             ]
            ],
            "type": "heatmap"
           }
          ],
          "heatmapgl": [
           {
            "colorbar": {
             "outlinewidth": 0,
             "ticks": ""
            },
            "colorscale": [
             [
              0,
              "#0d0887"
             ],
             [
              0.1111111111111111,
              "#46039f"
             ],
             [
              0.2222222222222222,
              "#7201a8"
             ],
             [
              0.3333333333333333,
              "#9c179e"
             ],
             [
              0.4444444444444444,
              "#bd3786"
             ],
             [
              0.5555555555555556,
              "#d8576b"
             ],
             [
              0.6666666666666666,
              "#ed7953"
             ],
             [
              0.7777777777777778,
              "#fb9f3a"
             ],
             [
              0.8888888888888888,
              "#fdca26"
             ],
             [
              1,
              "#f0f921"
             ]
            ],
            "type": "heatmapgl"
           }
          ],
          "histogram": [
           {
            "marker": {
             "colorbar": {
              "outlinewidth": 0,
              "ticks": ""
             }
            },
            "type": "histogram"
           }
          ],
          "histogram2d": [
           {
            "colorbar": {
             "outlinewidth": 0,
             "ticks": ""
            },
            "colorscale": [
             [
              0,
              "#0d0887"
             ],
             [
              0.1111111111111111,
              "#46039f"
             ],
             [
              0.2222222222222222,
              "#7201a8"
             ],
             [
              0.3333333333333333,
              "#9c179e"
             ],
             [
              0.4444444444444444,
              "#bd3786"
             ],
             [
              0.5555555555555556,
              "#d8576b"
             ],
             [
              0.6666666666666666,
              "#ed7953"
             ],
             [
              0.7777777777777778,
              "#fb9f3a"
             ],
             [
              0.8888888888888888,
              "#fdca26"
             ],
             [
              1,
              "#f0f921"
             ]
            ],
            "type": "histogram2d"
           }
          ],
          "histogram2dcontour": [
           {
            "colorbar": {
             "outlinewidth": 0,
             "ticks": ""
            },
            "colorscale": [
             [
              0,
              "#0d0887"
             ],
             [
              0.1111111111111111,
              "#46039f"
             ],
             [
              0.2222222222222222,
              "#7201a8"
             ],
             [
              0.3333333333333333,
              "#9c179e"
             ],
             [
              0.4444444444444444,
              "#bd3786"
             ],
             [
              0.5555555555555556,
              "#d8576b"
             ],
             [
              0.6666666666666666,
              "#ed7953"
             ],
             [
              0.7777777777777778,
              "#fb9f3a"
             ],
             [
              0.8888888888888888,
              "#fdca26"
             ],
             [
              1,
              "#f0f921"
             ]
            ],
            "type": "histogram2dcontour"
           }
          ],
          "mesh3d": [
           {
            "colorbar": {
             "outlinewidth": 0,
             "ticks": ""
            },
            "type": "mesh3d"
           }
          ],
          "parcoords": [
           {
            "line": {
             "colorbar": {
              "outlinewidth": 0,
              "ticks": ""
             }
            },
            "type": "parcoords"
           }
          ],
          "pie": [
           {
            "automargin": true,
            "type": "pie"
           }
          ],
          "scatter": [
           {
            "marker": {
             "colorbar": {
              "outlinewidth": 0,
              "ticks": ""
             }
            },
            "type": "scatter"
           }
          ],
          "scatter3d": [
           {
            "line": {
             "colorbar": {
              "outlinewidth": 0,
              "ticks": ""
             }
            },
            "marker": {
             "colorbar": {
              "outlinewidth": 0,
              "ticks": ""
             }
            },
            "type": "scatter3d"
           }
          ],
          "scattercarpet": [
           {
            "marker": {
             "colorbar": {
              "outlinewidth": 0,
              "ticks": ""
             }
            },
            "type": "scattercarpet"
           }
          ],
          "scattergeo": [
           {
            "marker": {
             "colorbar": {
              "outlinewidth": 0,
              "ticks": ""
             }
            },
            "type": "scattergeo"
           }
          ],
          "scattergl": [
           {
            "marker": {
             "colorbar": {
              "outlinewidth": 0,
              "ticks": ""
             }
            },
            "type": "scattergl"
           }
          ],
          "scattermapbox": [
           {
            "marker": {
             "colorbar": {
              "outlinewidth": 0,
              "ticks": ""
             }
            },
            "type": "scattermapbox"
           }
          ],
          "scatterpolar": [
           {
            "marker": {
             "colorbar": {
              "outlinewidth": 0,
              "ticks": ""
             }
            },
            "type": "scatterpolar"
           }
          ],
          "scatterpolargl": [
           {
            "marker": {
             "colorbar": {
              "outlinewidth": 0,
              "ticks": ""
             }
            },
            "type": "scatterpolargl"
           }
          ],
          "scatterternary": [
           {
            "marker": {
             "colorbar": {
              "outlinewidth": 0,
              "ticks": ""
             }
            },
            "type": "scatterternary"
           }
          ],
          "surface": [
           {
            "colorbar": {
             "outlinewidth": 0,
             "ticks": ""
            },
            "colorscale": [
             [
              0,
              "#0d0887"
             ],
             [
              0.1111111111111111,
              "#46039f"
             ],
             [
              0.2222222222222222,
              "#7201a8"
             ],
             [
              0.3333333333333333,
              "#9c179e"
             ],
             [
              0.4444444444444444,
              "#bd3786"
             ],
             [
              0.5555555555555556,
              "#d8576b"
             ],
             [
              0.6666666666666666,
              "#ed7953"
             ],
             [
              0.7777777777777778,
              "#fb9f3a"
             ],
             [
              0.8888888888888888,
              "#fdca26"
             ],
             [
              1,
              "#f0f921"
             ]
            ],
            "type": "surface"
           }
          ],
          "table": [
           {
            "cells": {
             "fill": {
              "color": "#EBF0F8"
             },
             "line": {
              "color": "white"
             }
            },
            "header": {
             "fill": {
              "color": "#C8D4E3"
             },
             "line": {
              "color": "white"
             }
            },
            "type": "table"
           }
          ]
         },
         "layout": {
          "annotationdefaults": {
           "arrowcolor": "#2a3f5f",
           "arrowhead": 0,
           "arrowwidth": 1
          },
          "autotypenumbers": "strict",
          "coloraxis": {
           "colorbar": {
            "outlinewidth": 0,
            "ticks": ""
           }
          },
          "colorscale": {
           "diverging": [
            [
             0,
             "#8e0152"
            ],
            [
             0.1,
             "#c51b7d"
            ],
            [
             0.2,
             "#de77ae"
            ],
            [
             0.3,
             "#f1b6da"
            ],
            [
             0.4,
             "#fde0ef"
            ],
            [
             0.5,
             "#f7f7f7"
            ],
            [
             0.6,
             "#e6f5d0"
            ],
            [
             0.7,
             "#b8e186"
            ],
            [
             0.8,
             "#7fbc41"
            ],
            [
             0.9,
             "#4d9221"
            ],
            [
             1,
             "#276419"
            ]
           ],
           "sequential": [
            [
             0,
             "#0d0887"
            ],
            [
             0.1111111111111111,
             "#46039f"
            ],
            [
             0.2222222222222222,
             "#7201a8"
            ],
            [
             0.3333333333333333,
             "#9c179e"
            ],
            [
             0.4444444444444444,
             "#bd3786"
            ],
            [
             0.5555555555555556,
             "#d8576b"
            ],
            [
             0.6666666666666666,
             "#ed7953"
            ],
            [
             0.7777777777777778,
             "#fb9f3a"
            ],
            [
             0.8888888888888888,
             "#fdca26"
            ],
            [
             1,
             "#f0f921"
            ]
           ],
           "sequentialminus": [
            [
             0,
             "#0d0887"
            ],
            [
             0.1111111111111111,
             "#46039f"
            ],
            [
             0.2222222222222222,
             "#7201a8"
            ],
            [
             0.3333333333333333,
             "#9c179e"
            ],
            [
             0.4444444444444444,
             "#bd3786"
            ],
            [
             0.5555555555555556,
             "#d8576b"
            ],
            [
             0.6666666666666666,
             "#ed7953"
            ],
            [
             0.7777777777777778,
             "#fb9f3a"
            ],
            [
             0.8888888888888888,
             "#fdca26"
            ],
            [
             1,
             "#f0f921"
            ]
           ]
          },
          "colorway": [
           "#636efa",
           "#EF553B",
           "#00cc96",
           "#ab63fa",
           "#FFA15A",
           "#19d3f3",
           "#FF6692",
           "#B6E880",
           "#FF97FF",
           "#FECB52"
          ],
          "font": {
           "color": "#2a3f5f"
          },
          "geo": {
           "bgcolor": "white",
           "lakecolor": "white",
           "landcolor": "#E5ECF6",
           "showlakes": true,
           "showland": true,
           "subunitcolor": "white"
          },
          "hoverlabel": {
           "align": "left"
          },
          "hovermode": "closest",
          "mapbox": {
           "style": "light"
          },
          "paper_bgcolor": "white",
          "plot_bgcolor": "#E5ECF6",
          "polar": {
           "angularaxis": {
            "gridcolor": "white",
            "linecolor": "white",
            "ticks": ""
           },
           "bgcolor": "#E5ECF6",
           "radialaxis": {
            "gridcolor": "white",
            "linecolor": "white",
            "ticks": ""
           }
          },
          "scene": {
           "xaxis": {
            "backgroundcolor": "#E5ECF6",
            "gridcolor": "white",
            "gridwidth": 2,
            "linecolor": "white",
            "showbackground": true,
            "ticks": "",
            "zerolinecolor": "white"
           },
           "yaxis": {
            "backgroundcolor": "#E5ECF6",
            "gridcolor": "white",
            "gridwidth": 2,
            "linecolor": "white",
            "showbackground": true,
            "ticks": "",
            "zerolinecolor": "white"
           },
           "zaxis": {
            "backgroundcolor": "#E5ECF6",
            "gridcolor": "white",
            "gridwidth": 2,
            "linecolor": "white",
            "showbackground": true,
            "ticks": "",
            "zerolinecolor": "white"
           }
          },
          "shapedefaults": {
           "line": {
            "color": "#2a3f5f"
           }
          },
          "ternary": {
           "aaxis": {
            "gridcolor": "white",
            "linecolor": "white",
            "ticks": ""
           },
           "baxis": {
            "gridcolor": "white",
            "linecolor": "white",
            "ticks": ""
           },
           "bgcolor": "#E5ECF6",
           "caxis": {
            "gridcolor": "white",
            "linecolor": "white",
            "ticks": ""
           }
          },
          "title": {
           "x": 0.05
          },
          "xaxis": {
           "automargin": true,
           "gridcolor": "white",
           "linecolor": "white",
           "ticks": "",
           "title": {
            "standoff": 15
           },
           "zerolinecolor": "white",
           "zerolinewidth": 2
          },
          "yaxis": {
           "automargin": true,
           "gridcolor": "white",
           "linecolor": "white",
           "ticks": "",
           "title": {
            "standoff": 15
           },
           "zerolinecolor": "white",
           "zerolinewidth": 2
          }
         }
        },
        "title": {
         "text": "<b> Duplicated code detector: Number of errors v. Task order </b>",
         "x": 0.5
        },
        "xaxis": {
         "dtick": 3,
         "title": {
          "text": "Task order"
         },
         "type": "linear"
        },
        "yaxis": {
         "title": {
          "text": "Number of errors"
         }
        }
       }
      }
     },
     "metadata": {}
    }
   ],
   "source": [
    "visualizer_duplicated_code_detector = VisualizerBarChart(\n",
    "    detector_name=\"Duplicated code detector\",\n",
    "    counter_task_solutions=runner_duplicated_code_detector.counter_task_solutions,\n",
    "    counter_task_errors=runner_duplicated_code_detector.counter_task_errors,\n",
    "    )\n",
    "\n",
    "fig_duplicated_code_detector = visualizer_duplicated_code_detector.display_visualization()"
   ]
  },
  {
   "cell_type": "code",
   "execution_count": 15,
   "metadata": {},
   "outputs": [],
   "source": [
    "class VisualizerScatterChart:\n",
    "    def __init__(self, detector_name, counter_task_solutions, counter_task_errors):\n",
    "        self.detector_name = detector_name\n",
    "        self.counter_task_solutions = counter_task_solutions\n",
    "        self.counter_task_errors = counter_task_errors\n",
    "    \n",
    "    def _process_data(self):\n",
    "        self.task_ids = []\n",
    "        self.num_errors = []\n",
    "        self.error_rates = []\n",
    "        self.hover_texts = []\n",
    "        for (task_id, n_errors), n_solutions in zip(self.counter_task_errors.items(), self.counter_task_solutions.values()):\n",
    "            error_rate = round(n_errors / n_solutions, 4)\n",
    "            self.task_ids.append(task_id)\n",
    "            self.num_errors.append(n_errors)\n",
    "            self.error_rates.append(error_rate)\n",
    "            self.hover_texts.append(\n",
    "                f\"Task_id: {task_id} <br>\"\n",
    "                f\"Number of detected errors: {n_errors} <br>\"\n",
    "                f\"Number of solutions: {n_solutions} <br>\"\n",
    "                f\"Error rate: {error_rate} <br>\"\n",
    "            )\n",
    "        self.min_task_id = min(self.task_ids)\n",
    "        self.max_task_id = max(self.task_ids)\n",
    "        max_num_errors = max(self.num_errors)\n",
    "        self.y_axis_dtick = max_num_errors // 5\n",
    "        max_error_rate = max(self.error_rates)\n",
    "        self.colorbar_dtick = round(max_error_rate / 5, 2)\n",
    "        self.sizes = [100 * round(math.sqrt(e_r / max_error_rate), 4)for e_r in self.error_rates]\n",
    "\n",
    "\n",
    "    def display_visualization(self):\n",
    "        self._process_data()\n",
    "        fig = go.Figure(\n",
    "            layout=go.Layout(\n",
    "                    title=dict(\n",
    "                        text=f\"<b> {self.detector_name}: Number of errors v. Task ID </b>\",\n",
    "                        x=0.5,\n",
    "                    ),\n",
    "                    xaxis=dict(\n",
    "                        title=\"Task ID\",\n",
    "                        type=\"linear\",\n",
    "                        dtick=5,\n",
    "                    ),\n",
    "                    yaxis=dict(\n",
    "                        title=\"Number of errors\",\n",
    "                        dtick=self.y_axis_dtick,\n",
    "                    ),\n",
    "                ),\n",
    "            data=[\n",
    "                go.Scatter(\n",
    "                    x=self.task_ids,\n",
    "                    y=self.num_errors,\n",
    "                    mode='markers',\n",
    "                    marker=dict(\n",
    "                        color=self.error_rates,\n",
    "                        size=self.sizes,\n",
    "                        colorbar=dict(\n",
    "                            title=\"Error rate\",\n",
    "                            dtick=self.colorbar_dtick,\n",
    "                        ),\n",
    "                    ),\n",
    "                    text=self.hover_texts,\n",
    "                )\n",
    "            ]\n",
    "        )\n",
    "        fig.show()\n",
    "        return fig"
   ]
  },
  {
   "cell_type": "code",
   "execution_count": 16,
   "metadata": {},
   "outputs": [
    {
     "output_type": "display_data",
     "data": {
      "application/vnd.plotly.v1+json": {
       "config": {
        "plotlyServerURL": "https://plotly.com"
       },
       "data": [
        {
         "marker": {
          "color": [
           1,
           0.4618,
           0.0005,
           1.2668,
           0.0007,
           0.1848,
           0.2484,
           0.0014,
           0.974,
           0.4809,
           0.4236,
           0.2991,
           0.0172,
           0.0018,
           0.0373,
           0.0288,
           0.0837,
           0.0956,
           0.1086
          ],
          "colorbar": {
           "dtick": 0.25,
           "title": {
            "text": "Error rate"
           }
          },
          "size": [
           88.85,
           60.38,
           1.9900000000000002,
           100,
           2.35,
           38.190000000000005,
           44.28,
           3.32,
           87.69,
           61.61,
           57.830000000000005,
           48.59,
           11.65,
           3.7699999999999996,
           17.16,
           15.079999999999998,
           25.7,
           27.47,
           29.28
          ]
         },
         "mode": "markers",
         "text": [
          "Task_id: 0 <br>Number of detected errors: 1 <br>Number of solutions: 1 <br>Error rate: 1.0 <br>",
          "Task_id: 1 <br>Number of detected errors: 520 <br>Number of solutions: 1126 <br>Error rate: 0.4618 <br>",
          "Task_id: 4 <br>Number of detected errors: 1 <br>Number of solutions: 2202 <br>Error rate: 0.0005 <br>",
          "Task_id: 5 <br>Number of detected errors: 565 <br>Number of solutions: 446 <br>Error rate: 1.2668 <br>",
          "Task_id: 15 <br>Number of detected errors: 1 <br>Number of solutions: 1480 <br>Error rate: 0.0007 <br>",
          "Task_id: 16 <br>Number of detected errors: 200 <br>Number of solutions: 1082 <br>Error rate: 0.1848 <br>",
          "Task_id: 17 <br>Number of detected errors: 190 <br>Number of solutions: 765 <br>Error rate: 0.2484 <br>",
          "Task_id: 24 <br>Number of detected errors: 1 <br>Number of solutions: 694 <br>Error rate: 0.0014 <br>",
          "Task_id: 25 <br>Number of detected errors: 638 <br>Number of solutions: 655 <br>Error rate: 0.974 <br>",
          "Task_id: 28 <br>Number of detected errors: 302 <br>Number of solutions: 628 <br>Error rate: 0.4809 <br>",
          "Task_id: 29 <br>Number of detected errors: 269 <br>Number of solutions: 635 <br>Error rate: 0.4236 <br>",
          "Task_id: 47 <br>Number of detected errors: 160 <br>Number of solutions: 535 <br>Error rate: 0.2991 <br>",
          "Task_id: 58 <br>Number of detected errors: 9 <br>Number of solutions: 524 <br>Error rate: 0.0172 <br>",
          "Task_id: 60 <br>Number of detected errors: 3 <br>Number of solutions: 1636 <br>Error rate: 0.0018 <br>",
          "Task_id: 71 <br>Number of detected errors: 54 <br>Number of solutions: 1449 <br>Error rate: 0.0373 <br>",
          "Task_id: 74 <br>Number of detected errors: 53 <br>Number of solutions: 1839 <br>Error rate: 0.0288 <br>",
          "Task_id: 75 <br>Number of detected errors: 72 <br>Number of solutions: 860 <br>Error rate: 0.0837 <br>",
          "Task_id: 80 <br>Number of detected errors: 72 <br>Number of solutions: 753 <br>Error rate: 0.0956 <br>",
          "Task_id: 89 <br>Number of detected errors: 57 <br>Number of solutions: 525 <br>Error rate: 0.1086 <br>"
         ],
         "type": "scatter",
         "x": [
          0,
          1,
          4,
          5,
          15,
          16,
          17,
          24,
          25,
          28,
          29,
          47,
          58,
          60,
          71,
          74,
          75,
          80,
          89
         ],
         "y": [
          1,
          520,
          1,
          565,
          1,
          200,
          190,
          1,
          638,
          302,
          269,
          160,
          9,
          3,
          54,
          53,
          72,
          72,
          57
         ]
        }
       ],
       "layout": {
        "template": {
         "data": {
          "bar": [
           {
            "error_x": {
             "color": "#2a3f5f"
            },
            "error_y": {
             "color": "#2a3f5f"
            },
            "marker": {
             "line": {
              "color": "#E5ECF6",
              "width": 0.5
             }
            },
            "type": "bar"
           }
          ],
          "barpolar": [
           {
            "marker": {
             "line": {
              "color": "#E5ECF6",
              "width": 0.5
             }
            },
            "type": "barpolar"
           }
          ],
          "carpet": [
           {
            "aaxis": {
             "endlinecolor": "#2a3f5f",
             "gridcolor": "white",
             "linecolor": "white",
             "minorgridcolor": "white",
             "startlinecolor": "#2a3f5f"
            },
            "baxis": {
             "endlinecolor": "#2a3f5f",
             "gridcolor": "white",
             "linecolor": "white",
             "minorgridcolor": "white",
             "startlinecolor": "#2a3f5f"
            },
            "type": "carpet"
           }
          ],
          "choropleth": [
           {
            "colorbar": {
             "outlinewidth": 0,
             "ticks": ""
            },
            "type": "choropleth"
           }
          ],
          "contour": [
           {
            "colorbar": {
             "outlinewidth": 0,
             "ticks": ""
            },
            "colorscale": [
             [
              0,
              "#0d0887"
             ],
             [
              0.1111111111111111,
              "#46039f"
             ],
             [
              0.2222222222222222,
              "#7201a8"
             ],
             [
              0.3333333333333333,
              "#9c179e"
             ],
             [
              0.4444444444444444,
              "#bd3786"
             ],
             [
              0.5555555555555556,
              "#d8576b"
             ],
             [
              0.6666666666666666,
              "#ed7953"
             ],
             [
              0.7777777777777778,
              "#fb9f3a"
             ],
             [
              0.8888888888888888,
              "#fdca26"
             ],
             [
              1,
              "#f0f921"
             ]
            ],
            "type": "contour"
           }
          ],
          "contourcarpet": [
           {
            "colorbar": {
             "outlinewidth": 0,
             "ticks": ""
            },
            "type": "contourcarpet"
           }
          ],
          "heatmap": [
           {
            "colorbar": {
             "outlinewidth": 0,
             "ticks": ""
            },
            "colorscale": [
             [
              0,
              "#0d0887"
             ],
             [
              0.1111111111111111,
              "#46039f"
             ],
             [
              0.2222222222222222,
              "#7201a8"
             ],
             [
              0.3333333333333333,
              "#9c179e"
             ],
             [
              0.4444444444444444,
              "#bd3786"
             ],
             [
              0.5555555555555556,
              "#d8576b"
             ],
             [
              0.6666666666666666,
              "#ed7953"
             ],
             [
              0.7777777777777778,
              "#fb9f3a"
             ],
             [
              0.8888888888888888,
              "#fdca26"
             ],
             [
              1,
              "#f0f921"
             ]
            ],
            "type": "heatmap"
           }
          ],
          "heatmapgl": [
           {
            "colorbar": {
             "outlinewidth": 0,
             "ticks": ""
            },
            "colorscale": [
             [
              0,
              "#0d0887"
             ],
             [
              0.1111111111111111,
              "#46039f"
             ],
             [
              0.2222222222222222,
              "#7201a8"
             ],
             [
              0.3333333333333333,
              "#9c179e"
             ],
             [
              0.4444444444444444,
              "#bd3786"
             ],
             [
              0.5555555555555556,
              "#d8576b"
             ],
             [
              0.6666666666666666,
              "#ed7953"
             ],
             [
              0.7777777777777778,
              "#fb9f3a"
             ],
             [
              0.8888888888888888,
              "#fdca26"
             ],
             [
              1,
              "#f0f921"
             ]
            ],
            "type": "heatmapgl"
           }
          ],
          "histogram": [
           {
            "marker": {
             "colorbar": {
              "outlinewidth": 0,
              "ticks": ""
             }
            },
            "type": "histogram"
           }
          ],
          "histogram2d": [
           {
            "colorbar": {
             "outlinewidth": 0,
             "ticks": ""
            },
            "colorscale": [
             [
              0,
              "#0d0887"
             ],
             [
              0.1111111111111111,
              "#46039f"
             ],
             [
              0.2222222222222222,
              "#7201a8"
             ],
             [
              0.3333333333333333,
              "#9c179e"
             ],
             [
              0.4444444444444444,
              "#bd3786"
             ],
             [
              0.5555555555555556,
              "#d8576b"
             ],
             [
              0.6666666666666666,
              "#ed7953"
             ],
             [
              0.7777777777777778,
              "#fb9f3a"
             ],
             [
              0.8888888888888888,
              "#fdca26"
             ],
             [
              1,
              "#f0f921"
             ]
            ],
            "type": "histogram2d"
           }
          ],
          "histogram2dcontour": [
           {
            "colorbar": {
             "outlinewidth": 0,
             "ticks": ""
            },
            "colorscale": [
             [
              0,
              "#0d0887"
             ],
             [
              0.1111111111111111,
              "#46039f"
             ],
             [
              0.2222222222222222,
              "#7201a8"
             ],
             [
              0.3333333333333333,
              "#9c179e"
             ],
             [
              0.4444444444444444,
              "#bd3786"
             ],
             [
              0.5555555555555556,
              "#d8576b"
             ],
             [
              0.6666666666666666,
              "#ed7953"
             ],
             [
              0.7777777777777778,
              "#fb9f3a"
             ],
             [
              0.8888888888888888,
              "#fdca26"
             ],
             [
              1,
              "#f0f921"
             ]
            ],
            "type": "histogram2dcontour"
           }
          ],
          "mesh3d": [
           {
            "colorbar": {
             "outlinewidth": 0,
             "ticks": ""
            },
            "type": "mesh3d"
           }
          ],
          "parcoords": [
           {
            "line": {
             "colorbar": {
              "outlinewidth": 0,
              "ticks": ""
             }
            },
            "type": "parcoords"
           }
          ],
          "pie": [
           {
            "automargin": true,
            "type": "pie"
           }
          ],
          "scatter": [
           {
            "marker": {
             "colorbar": {
              "outlinewidth": 0,
              "ticks": ""
             }
            },
            "type": "scatter"
           }
          ],
          "scatter3d": [
           {
            "line": {
             "colorbar": {
              "outlinewidth": 0,
              "ticks": ""
             }
            },
            "marker": {
             "colorbar": {
              "outlinewidth": 0,
              "ticks": ""
             }
            },
            "type": "scatter3d"
           }
          ],
          "scattercarpet": [
           {
            "marker": {
             "colorbar": {
              "outlinewidth": 0,
              "ticks": ""
             }
            },
            "type": "scattercarpet"
           }
          ],
          "scattergeo": [
           {
            "marker": {
             "colorbar": {
              "outlinewidth": 0,
              "ticks": ""
             }
            },
            "type": "scattergeo"
           }
          ],
          "scattergl": [
           {
            "marker": {
             "colorbar": {
              "outlinewidth": 0,
              "ticks": ""
             }
            },
            "type": "scattergl"
           }
          ],
          "scattermapbox": [
           {
            "marker": {
             "colorbar": {
              "outlinewidth": 0,
              "ticks": ""
             }
            },
            "type": "scattermapbox"
           }
          ],
          "scatterpolar": [
           {
            "marker": {
             "colorbar": {
              "outlinewidth": 0,
              "ticks": ""
             }
            },
            "type": "scatterpolar"
           }
          ],
          "scatterpolargl": [
           {
            "marker": {
             "colorbar": {
              "outlinewidth": 0,
              "ticks": ""
             }
            },
            "type": "scatterpolargl"
           }
          ],
          "scatterternary": [
           {
            "marker": {
             "colorbar": {
              "outlinewidth": 0,
              "ticks": ""
             }
            },
            "type": "scatterternary"
           }
          ],
          "surface": [
           {
            "colorbar": {
             "outlinewidth": 0,
             "ticks": ""
            },
            "colorscale": [
             [
              0,
              "#0d0887"
             ],
             [
              0.1111111111111111,
              "#46039f"
             ],
             [
              0.2222222222222222,
              "#7201a8"
             ],
             [
              0.3333333333333333,
              "#9c179e"
             ],
             [
              0.4444444444444444,
              "#bd3786"
             ],
             [
              0.5555555555555556,
              "#d8576b"
             ],
             [
              0.6666666666666666,
              "#ed7953"
             ],
             [
              0.7777777777777778,
              "#fb9f3a"
             ],
             [
              0.8888888888888888,
              "#fdca26"
             ],
             [
              1,
              "#f0f921"
             ]
            ],
            "type": "surface"
           }
          ],
          "table": [
           {
            "cells": {
             "fill": {
              "color": "#EBF0F8"
             },
             "line": {
              "color": "white"
             }
            },
            "header": {
             "fill": {
              "color": "#C8D4E3"
             },
             "line": {
              "color": "white"
             }
            },
            "type": "table"
           }
          ]
         },
         "layout": {
          "annotationdefaults": {
           "arrowcolor": "#2a3f5f",
           "arrowhead": 0,
           "arrowwidth": 1
          },
          "autotypenumbers": "strict",
          "coloraxis": {
           "colorbar": {
            "outlinewidth": 0,
            "ticks": ""
           }
          },
          "colorscale": {
           "diverging": [
            [
             0,
             "#8e0152"
            ],
            [
             0.1,
             "#c51b7d"
            ],
            [
             0.2,
             "#de77ae"
            ],
            [
             0.3,
             "#f1b6da"
            ],
            [
             0.4,
             "#fde0ef"
            ],
            [
             0.5,
             "#f7f7f7"
            ],
            [
             0.6,
             "#e6f5d0"
            ],
            [
             0.7,
             "#b8e186"
            ],
            [
             0.8,
             "#7fbc41"
            ],
            [
             0.9,
             "#4d9221"
            ],
            [
             1,
             "#276419"
            ]
           ],
           "sequential": [
            [
             0,
             "#0d0887"
            ],
            [
             0.1111111111111111,
             "#46039f"
            ],
            [
             0.2222222222222222,
             "#7201a8"
            ],
            [
             0.3333333333333333,
             "#9c179e"
            ],
            [
             0.4444444444444444,
             "#bd3786"
            ],
            [
             0.5555555555555556,
             "#d8576b"
            ],
            [
             0.6666666666666666,
             "#ed7953"
            ],
            [
             0.7777777777777778,
             "#fb9f3a"
            ],
            [
             0.8888888888888888,
             "#fdca26"
            ],
            [
             1,
             "#f0f921"
            ]
           ],
           "sequentialminus": [
            [
             0,
             "#0d0887"
            ],
            [
             0.1111111111111111,
             "#46039f"
            ],
            [
             0.2222222222222222,
             "#7201a8"
            ],
            [
             0.3333333333333333,
             "#9c179e"
            ],
            [
             0.4444444444444444,
             "#bd3786"
            ],
            [
             0.5555555555555556,
             "#d8576b"
            ],
            [
             0.6666666666666666,
             "#ed7953"
            ],
            [
             0.7777777777777778,
             "#fb9f3a"
            ],
            [
             0.8888888888888888,
             "#fdca26"
            ],
            [
             1,
             "#f0f921"
            ]
           ]
          },
          "colorway": [
           "#636efa",
           "#EF553B",
           "#00cc96",
           "#ab63fa",
           "#FFA15A",
           "#19d3f3",
           "#FF6692",
           "#B6E880",
           "#FF97FF",
           "#FECB52"
          ],
          "font": {
           "color": "#2a3f5f"
          },
          "geo": {
           "bgcolor": "white",
           "lakecolor": "white",
           "landcolor": "#E5ECF6",
           "showlakes": true,
           "showland": true,
           "subunitcolor": "white"
          },
          "hoverlabel": {
           "align": "left"
          },
          "hovermode": "closest",
          "mapbox": {
           "style": "light"
          },
          "paper_bgcolor": "white",
          "plot_bgcolor": "#E5ECF6",
          "polar": {
           "angularaxis": {
            "gridcolor": "white",
            "linecolor": "white",
            "ticks": ""
           },
           "bgcolor": "#E5ECF6",
           "radialaxis": {
            "gridcolor": "white",
            "linecolor": "white",
            "ticks": ""
           }
          },
          "scene": {
           "xaxis": {
            "backgroundcolor": "#E5ECF6",
            "gridcolor": "white",
            "gridwidth": 2,
            "linecolor": "white",
            "showbackground": true,
            "ticks": "",
            "zerolinecolor": "white"
           },
           "yaxis": {
            "backgroundcolor": "#E5ECF6",
            "gridcolor": "white",
            "gridwidth": 2,
            "linecolor": "white",
            "showbackground": true,
            "ticks": "",
            "zerolinecolor": "white"
           },
           "zaxis": {
            "backgroundcolor": "#E5ECF6",
            "gridcolor": "white",
            "gridwidth": 2,
            "linecolor": "white",
            "showbackground": true,
            "ticks": "",
            "zerolinecolor": "white"
           }
          },
          "shapedefaults": {
           "line": {
            "color": "#2a3f5f"
           }
          },
          "ternary": {
           "aaxis": {
            "gridcolor": "white",
            "linecolor": "white",
            "ticks": ""
           },
           "baxis": {
            "gridcolor": "white",
            "linecolor": "white",
            "ticks": ""
           },
           "bgcolor": "#E5ECF6",
           "caxis": {
            "gridcolor": "white",
            "linecolor": "white",
            "ticks": ""
           }
          },
          "title": {
           "x": 0.05
          },
          "xaxis": {
           "automargin": true,
           "gridcolor": "white",
           "linecolor": "white",
           "ticks": "",
           "title": {
            "standoff": 15
           },
           "zerolinecolor": "white",
           "zerolinewidth": 2
          },
          "yaxis": {
           "automargin": true,
           "gridcolor": "white",
           "linecolor": "white",
           "ticks": "",
           "title": {
            "standoff": 15
           },
           "zerolinecolor": "white",
           "zerolinewidth": 2
          }
         }
        },
        "title": {
         "text": "<b> Redundant if else detector: Number of errors v. Task ID </b>",
         "x": 0.5
        },
        "xaxis": {
         "dtick": 5,
         "title": {
          "text": "Task ID"
         },
         "type": "linear"
        },
        "yaxis": {
         "dtick": 127,
         "title": {
          "text": "Number of errors"
         }
        }
       }
      }
     },
     "metadata": {}
    }
   ],
   "source": [
    "visualizer_redundant_if_else_detector = VisualizerScatterChart(\n",
    "    detector_name=\"Redundant if else detector\",\n",
    "    counter_task_solutions=runner_redundant_if_else_detector.counter_task_solutions,\n",
    "    counter_task_errors=runner_redundant_if_else_detector.counter_task_errors,\n",
    "    )\n",
    "\n",
    "fig_redundant_if_else_detector = visualizer_redundant_if_else_detector.display_visualization()"
   ]
  },
  {
   "cell_type": "code",
   "execution_count": 17,
   "metadata": {},
   "outputs": [
    {
     "output_type": "display_data",
     "data": {
      "application/vnd.plotly.v1+json": {
       "config": {
        "plotlyServerURL": "https://plotly.com"
       },
       "data": [
        {
         "marker": {
          "color": [
           5,
           0.0222,
           0.0005,
           0.0022,
           0.0534,
           0.0157,
           0.1359,
           0.0043,
           0.0015,
           0.0016,
           0.0031,
           0.015,
           0.0115,
           0.0006,
           0.0021,
           0.0005,
           0.0116,
           0.0013,
           0.0419,
           0.0129,
           0.0216
          ],
          "colorbar": {
           "dtick": 1,
           "title": {
            "text": "Error rate"
           }
          },
          "size": [
           100,
           6.660000000000001,
           1,
           2.1,
           10.33,
           5.6000000000000005,
           16.49,
           2.93,
           1.73,
           1.79,
           2.4899999999999998,
           5.48,
           4.8,
           1.0999999999999999,
           2.0500000000000003,
           1,
           4.82,
           1.6099999999999999,
           9.15,
           5.08,
           6.569999999999999
          ]
         },
         "mode": "markers",
         "text": [
          "Task_id: 11 <br>Number of detected errors: 5 <br>Number of solutions: 1 <br>Error rate: 5.0 <br>",
          "Task_id: 25 <br>Number of detected errors: 25 <br>Number of solutions: 1126 <br>Error rate: 0.0222 <br>",
          "Task_id: 27 <br>Number of detected errors: 1 <br>Number of solutions: 2202 <br>Error rate: 0.0005 <br>",
          "Task_id: 28 <br>Number of detected errors: 1 <br>Number of solutions: 446 <br>Error rate: 0.0022 <br>",
          "Task_id: 30 <br>Number of detected errors: 79 <br>Number of solutions: 1480 <br>Error rate: 0.0534 <br>",
          "Task_id: 31 <br>Number of detected errors: 17 <br>Number of solutions: 1082 <br>Error rate: 0.0157 <br>",
          "Task_id: 36 <br>Number of detected errors: 104 <br>Number of solutions: 765 <br>Error rate: 0.1359 <br>",
          "Task_id: 44 <br>Number of detected errors: 3 <br>Number of solutions: 694 <br>Error rate: 0.0043 <br>",
          "Task_id: 50 <br>Number of detected errors: 1 <br>Number of solutions: 655 <br>Error rate: 0.0015 <br>",
          "Task_id: 52 <br>Number of detected errors: 1 <br>Number of solutions: 628 <br>Error rate: 0.0016 <br>",
          "Task_id: 62 <br>Number of detected errors: 2 <br>Number of solutions: 635 <br>Error rate: 0.0031 <br>",
          "Task_id: 64 <br>Number of detected errors: 8 <br>Number of solutions: 535 <br>Error rate: 0.015 <br>",
          "Task_id: 66 <br>Number of detected errors: 6 <br>Number of solutions: 524 <br>Error rate: 0.0115 <br>",
          "Task_id: 71 <br>Number of detected errors: 1 <br>Number of solutions: 1636 <br>Error rate: 0.0006 <br>",
          "Task_id: 77 <br>Number of detected errors: 3 <br>Number of solutions: 1449 <br>Error rate: 0.0021 <br>",
          "Task_id: 78 <br>Number of detected errors: 1 <br>Number of solutions: 1839 <br>Error rate: 0.0005 <br>",
          "Task_id: 81 <br>Number of detected errors: 10 <br>Number of solutions: 860 <br>Error rate: 0.0116 <br>",
          "Task_id: 84 <br>Number of detected errors: 1 <br>Number of solutions: 753 <br>Error rate: 0.0013 <br>",
          "Task_id: 85 <br>Number of detected errors: 22 <br>Number of solutions: 525 <br>Error rate: 0.0419 <br>",
          "Task_id: 86 <br>Number of detected errors: 6 <br>Number of solutions: 465 <br>Error rate: 0.0129 <br>",
          "Task_id: 90 <br>Number of detected errors: 12 <br>Number of solutions: 555 <br>Error rate: 0.0216 <br>"
         ],
         "type": "scatter",
         "x": [
          11,
          25,
          27,
          28,
          30,
          31,
          36,
          44,
          50,
          52,
          62,
          64,
          66,
          71,
          77,
          78,
          81,
          84,
          85,
          86,
          90
         ],
         "y": [
          5,
          25,
          1,
          1,
          79,
          17,
          104,
          3,
          1,
          1,
          2,
          8,
          6,
          1,
          3,
          1,
          10,
          1,
          22,
          6,
          12
         ]
        }
       ],
       "layout": {
        "template": {
         "data": {
          "bar": [
           {
            "error_x": {
             "color": "#2a3f5f"
            },
            "error_y": {
             "color": "#2a3f5f"
            },
            "marker": {
             "line": {
              "color": "#E5ECF6",
              "width": 0.5
             }
            },
            "type": "bar"
           }
          ],
          "barpolar": [
           {
            "marker": {
             "line": {
              "color": "#E5ECF6",
              "width": 0.5
             }
            },
            "type": "barpolar"
           }
          ],
          "carpet": [
           {
            "aaxis": {
             "endlinecolor": "#2a3f5f",
             "gridcolor": "white",
             "linecolor": "white",
             "minorgridcolor": "white",
             "startlinecolor": "#2a3f5f"
            },
            "baxis": {
             "endlinecolor": "#2a3f5f",
             "gridcolor": "white",
             "linecolor": "white",
             "minorgridcolor": "white",
             "startlinecolor": "#2a3f5f"
            },
            "type": "carpet"
           }
          ],
          "choropleth": [
           {
            "colorbar": {
             "outlinewidth": 0,
             "ticks": ""
            },
            "type": "choropleth"
           }
          ],
          "contour": [
           {
            "colorbar": {
             "outlinewidth": 0,
             "ticks": ""
            },
            "colorscale": [
             [
              0,
              "#0d0887"
             ],
             [
              0.1111111111111111,
              "#46039f"
             ],
             [
              0.2222222222222222,
              "#7201a8"
             ],
             [
              0.3333333333333333,
              "#9c179e"
             ],
             [
              0.4444444444444444,
              "#bd3786"
             ],
             [
              0.5555555555555556,
              "#d8576b"
             ],
             [
              0.6666666666666666,
              "#ed7953"
             ],
             [
              0.7777777777777778,
              "#fb9f3a"
             ],
             [
              0.8888888888888888,
              "#fdca26"
             ],
             [
              1,
              "#f0f921"
             ]
            ],
            "type": "contour"
           }
          ],
          "contourcarpet": [
           {
            "colorbar": {
             "outlinewidth": 0,
             "ticks": ""
            },
            "type": "contourcarpet"
           }
          ],
          "heatmap": [
           {
            "colorbar": {
             "outlinewidth": 0,
             "ticks": ""
            },
            "colorscale": [
             [
              0,
              "#0d0887"
             ],
             [
              0.1111111111111111,
              "#46039f"
             ],
             [
              0.2222222222222222,
              "#7201a8"
             ],
             [
              0.3333333333333333,
              "#9c179e"
             ],
             [
              0.4444444444444444,
              "#bd3786"
             ],
             [
              0.5555555555555556,
              "#d8576b"
             ],
             [
              0.6666666666666666,
              "#ed7953"
             ],
             [
              0.7777777777777778,
              "#fb9f3a"
             ],
             [
              0.8888888888888888,
              "#fdca26"
             ],
             [
              1,
              "#f0f921"
             ]
            ],
            "type": "heatmap"
           }
          ],
          "heatmapgl": [
           {
            "colorbar": {
             "outlinewidth": 0,
             "ticks": ""
            },
            "colorscale": [
             [
              0,
              "#0d0887"
             ],
             [
              0.1111111111111111,
              "#46039f"
             ],
             [
              0.2222222222222222,
              "#7201a8"
             ],
             [
              0.3333333333333333,
              "#9c179e"
             ],
             [
              0.4444444444444444,
              "#bd3786"
             ],
             [
              0.5555555555555556,
              "#d8576b"
             ],
             [
              0.6666666666666666,
              "#ed7953"
             ],
             [
              0.7777777777777778,
              "#fb9f3a"
             ],
             [
              0.8888888888888888,
              "#fdca26"
             ],
             [
              1,
              "#f0f921"
             ]
            ],
            "type": "heatmapgl"
           }
          ],
          "histogram": [
           {
            "marker": {
             "colorbar": {
              "outlinewidth": 0,
              "ticks": ""
             }
            },
            "type": "histogram"
           }
          ],
          "histogram2d": [
           {
            "colorbar": {
             "outlinewidth": 0,
             "ticks": ""
            },
            "colorscale": [
             [
              0,
              "#0d0887"
             ],
             [
              0.1111111111111111,
              "#46039f"
             ],
             [
              0.2222222222222222,
              "#7201a8"
             ],
             [
              0.3333333333333333,
              "#9c179e"
             ],
             [
              0.4444444444444444,
              "#bd3786"
             ],
             [
              0.5555555555555556,
              "#d8576b"
             ],
             [
              0.6666666666666666,
              "#ed7953"
             ],
             [
              0.7777777777777778,
              "#fb9f3a"
             ],
             [
              0.8888888888888888,
              "#fdca26"
             ],
             [
              1,
              "#f0f921"
             ]
            ],
            "type": "histogram2d"
           }
          ],
          "histogram2dcontour": [
           {
            "colorbar": {
             "outlinewidth": 0,
             "ticks": ""
            },
            "colorscale": [
             [
              0,
              "#0d0887"
             ],
             [
              0.1111111111111111,
              "#46039f"
             ],
             [
              0.2222222222222222,
              "#7201a8"
             ],
             [
              0.3333333333333333,
              "#9c179e"
             ],
             [
              0.4444444444444444,
              "#bd3786"
             ],
             [
              0.5555555555555556,
              "#d8576b"
             ],
             [
              0.6666666666666666,
              "#ed7953"
             ],
             [
              0.7777777777777778,
              "#fb9f3a"
             ],
             [
              0.8888888888888888,
              "#fdca26"
             ],
             [
              1,
              "#f0f921"
             ]
            ],
            "type": "histogram2dcontour"
           }
          ],
          "mesh3d": [
           {
            "colorbar": {
             "outlinewidth": 0,
             "ticks": ""
            },
            "type": "mesh3d"
           }
          ],
          "parcoords": [
           {
            "line": {
             "colorbar": {
              "outlinewidth": 0,
              "ticks": ""
             }
            },
            "type": "parcoords"
           }
          ],
          "pie": [
           {
            "automargin": true,
            "type": "pie"
           }
          ],
          "scatter": [
           {
            "marker": {
             "colorbar": {
              "outlinewidth": 0,
              "ticks": ""
             }
            },
            "type": "scatter"
           }
          ],
          "scatter3d": [
           {
            "line": {
             "colorbar": {
              "outlinewidth": 0,
              "ticks": ""
             }
            },
            "marker": {
             "colorbar": {
              "outlinewidth": 0,
              "ticks": ""
             }
            },
            "type": "scatter3d"
           }
          ],
          "scattercarpet": [
           {
            "marker": {
             "colorbar": {
              "outlinewidth": 0,
              "ticks": ""
             }
            },
            "type": "scattercarpet"
           }
          ],
          "scattergeo": [
           {
            "marker": {
             "colorbar": {
              "outlinewidth": 0,
              "ticks": ""
             }
            },
            "type": "scattergeo"
           }
          ],
          "scattergl": [
           {
            "marker": {
             "colorbar": {
              "outlinewidth": 0,
              "ticks": ""
             }
            },
            "type": "scattergl"
           }
          ],
          "scattermapbox": [
           {
            "marker": {
             "colorbar": {
              "outlinewidth": 0,
              "ticks": ""
             }
            },
            "type": "scattermapbox"
           }
          ],
          "scatterpolar": [
           {
            "marker": {
             "colorbar": {
              "outlinewidth": 0,
              "ticks": ""
             }
            },
            "type": "scatterpolar"
           }
          ],
          "scatterpolargl": [
           {
            "marker": {
             "colorbar": {
              "outlinewidth": 0,
              "ticks": ""
             }
            },
            "type": "scatterpolargl"
           }
          ],
          "scatterternary": [
           {
            "marker": {
             "colorbar": {
              "outlinewidth": 0,
              "ticks": ""
             }
            },
            "type": "scatterternary"
           }
          ],
          "surface": [
           {
            "colorbar": {
             "outlinewidth": 0,
             "ticks": ""
            },
            "colorscale": [
             [
              0,
              "#0d0887"
             ],
             [
              0.1111111111111111,
              "#46039f"
             ],
             [
              0.2222222222222222,
              "#7201a8"
             ],
             [
              0.3333333333333333,
              "#9c179e"
             ],
             [
              0.4444444444444444,
              "#bd3786"
             ],
             [
              0.5555555555555556,
              "#d8576b"
             ],
             [
              0.6666666666666666,
              "#ed7953"
             ],
             [
              0.7777777777777778,
              "#fb9f3a"
             ],
             [
              0.8888888888888888,
              "#fdca26"
             ],
             [
              1,
              "#f0f921"
             ]
            ],
            "type": "surface"
           }
          ],
          "table": [
           {
            "cells": {
             "fill": {
              "color": "#EBF0F8"
             },
             "line": {
              "color": "white"
             }
            },
            "header": {
             "fill": {
              "color": "#C8D4E3"
             },
             "line": {
              "color": "white"
             }
            },
            "type": "table"
           }
          ]
         },
         "layout": {
          "annotationdefaults": {
           "arrowcolor": "#2a3f5f",
           "arrowhead": 0,
           "arrowwidth": 1
          },
          "autotypenumbers": "strict",
          "coloraxis": {
           "colorbar": {
            "outlinewidth": 0,
            "ticks": ""
           }
          },
          "colorscale": {
           "diverging": [
            [
             0,
             "#8e0152"
            ],
            [
             0.1,
             "#c51b7d"
            ],
            [
             0.2,
             "#de77ae"
            ],
            [
             0.3,
             "#f1b6da"
            ],
            [
             0.4,
             "#fde0ef"
            ],
            [
             0.5,
             "#f7f7f7"
            ],
            [
             0.6,
             "#e6f5d0"
            ],
            [
             0.7,
             "#b8e186"
            ],
            [
             0.8,
             "#7fbc41"
            ],
            [
             0.9,
             "#4d9221"
            ],
            [
             1,
             "#276419"
            ]
           ],
           "sequential": [
            [
             0,
             "#0d0887"
            ],
            [
             0.1111111111111111,
             "#46039f"
            ],
            [
             0.2222222222222222,
             "#7201a8"
            ],
            [
             0.3333333333333333,
             "#9c179e"
            ],
            [
             0.4444444444444444,
             "#bd3786"
            ],
            [
             0.5555555555555556,
             "#d8576b"
            ],
            [
             0.6666666666666666,
             "#ed7953"
            ],
            [
             0.7777777777777778,
             "#fb9f3a"
            ],
            [
             0.8888888888888888,
             "#fdca26"
            ],
            [
             1,
             "#f0f921"
            ]
           ],
           "sequentialminus": [
            [
             0,
             "#0d0887"
            ],
            [
             0.1111111111111111,
             "#46039f"
            ],
            [
             0.2222222222222222,
             "#7201a8"
            ],
            [
             0.3333333333333333,
             "#9c179e"
            ],
            [
             0.4444444444444444,
             "#bd3786"
            ],
            [
             0.5555555555555556,
             "#d8576b"
            ],
            [
             0.6666666666666666,
             "#ed7953"
            ],
            [
             0.7777777777777778,
             "#fb9f3a"
            ],
            [
             0.8888888888888888,
             "#fdca26"
            ],
            [
             1,
             "#f0f921"
            ]
           ]
          },
          "colorway": [
           "#636efa",
           "#EF553B",
           "#00cc96",
           "#ab63fa",
           "#FFA15A",
           "#19d3f3",
           "#FF6692",
           "#B6E880",
           "#FF97FF",
           "#FECB52"
          ],
          "font": {
           "color": "#2a3f5f"
          },
          "geo": {
           "bgcolor": "white",
           "lakecolor": "white",
           "landcolor": "#E5ECF6",
           "showlakes": true,
           "showland": true,
           "subunitcolor": "white"
          },
          "hoverlabel": {
           "align": "left"
          },
          "hovermode": "closest",
          "mapbox": {
           "style": "light"
          },
          "paper_bgcolor": "white",
          "plot_bgcolor": "#E5ECF6",
          "polar": {
           "angularaxis": {
            "gridcolor": "white",
            "linecolor": "white",
            "ticks": ""
           },
           "bgcolor": "#E5ECF6",
           "radialaxis": {
            "gridcolor": "white",
            "linecolor": "white",
            "ticks": ""
           }
          },
          "scene": {
           "xaxis": {
            "backgroundcolor": "#E5ECF6",
            "gridcolor": "white",
            "gridwidth": 2,
            "linecolor": "white",
            "showbackground": true,
            "ticks": "",
            "zerolinecolor": "white"
           },
           "yaxis": {
            "backgroundcolor": "#E5ECF6",
            "gridcolor": "white",
            "gridwidth": 2,
            "linecolor": "white",
            "showbackground": true,
            "ticks": "",
            "zerolinecolor": "white"
           },
           "zaxis": {
            "backgroundcolor": "#E5ECF6",
            "gridcolor": "white",
            "gridwidth": 2,
            "linecolor": "white",
            "showbackground": true,
            "ticks": "",
            "zerolinecolor": "white"
           }
          },
          "shapedefaults": {
           "line": {
            "color": "#2a3f5f"
           }
          },
          "ternary": {
           "aaxis": {
            "gridcolor": "white",
            "linecolor": "white",
            "ticks": ""
           },
           "baxis": {
            "gridcolor": "white",
            "linecolor": "white",
            "ticks": ""
           },
           "bgcolor": "#E5ECF6",
           "caxis": {
            "gridcolor": "white",
            "linecolor": "white",
            "ticks": ""
           }
          },
          "title": {
           "x": 0.05
          },
          "xaxis": {
           "automargin": true,
           "gridcolor": "white",
           "linecolor": "white",
           "ticks": "",
           "title": {
            "standoff": 15
           },
           "zerolinecolor": "white",
           "zerolinewidth": 2
          },
          "yaxis": {
           "automargin": true,
           "gridcolor": "white",
           "linecolor": "white",
           "ticks": "",
           "title": {
            "standoff": 15
           },
           "zerolinecolor": "white",
           "zerolinewidth": 2
          }
         }
        },
        "title": {
         "text": "<b> Redundant elif detector: Number of errors v. Task ID </b>",
         "x": 0.5
        },
        "xaxis": {
         "dtick": 5,
         "title": {
          "text": "Task ID"
         },
         "type": "linear"
        },
        "yaxis": {
         "dtick": 20,
         "title": {
          "text": "Number of errors"
         }
        }
       }
      }
     },
     "metadata": {}
    }
   ],
   "source": [
    "visualizer_redundant_elif_detector = VisualizerScatterChart(\n",
    "    detector_name=\"Redundant elif detector\",\n",
    "    counter_task_solutions=runner_redundant_elif_detector.counter_task_solutions,\n",
    "    counter_task_errors=runner_redundant_elif_detector.counter_task_errors,\n",
    "    )\n",
    "\n",
    "fig_redundant_elif_detector = visualizer_redundant_elif_detector.display_visualization()"
   ]
  },
  {
   "cell_type": "code",
   "execution_count": 20,
   "metadata": {},
   "outputs": [],
   "source": [
    "import plotly.io as pio\n",
    "\n",
    "pio.write_html(fig_redundant_if_else_detector, file='redundant_if_else_detector.html', auto_open=True)\n",
    "pio.write_html(fig_redundant_elif_detector, file='redundant_elif_detector.html', auto_open=True)"
   ]
  }
 ],
 "metadata": {
  "kernelspec": {
   "name": "python38564bittensorflowconda5e6f479edcf44ef694c6a68356bf46a9",
   "display_name": "Python 3.8.5 64-bit ('tensorflow': conda)"
  },
  "language_info": {
   "codemirror_mode": {
    "name": "ipython",
    "version": 3
   },
   "file_extension": ".py",
   "mimetype": "text/x-python",
   "name": "python",
   "nbconvert_exporter": "python",
   "pygments_lexer": "ipython3",
   "version": "3.8.5"
  },
  "metadata": {
   "interpreter": {
    "hash": "78c80fcd462987188a8a0f156bb3eae58925f14e22275f23f29d56bc15bddfa2"
   }
  },
  "orig_nbformat": 2
 },
 "nbformat": 4,
 "nbformat_minor": 2
}