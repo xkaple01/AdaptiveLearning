{
 "cells": [
  {
   "cell_type": "code",
   "execution_count": 1,
   "metadata": {},
   "outputs": [],
   "source": [
    "import ast\n",
    "import astunparse\n",
    "import csv\n",
    "from pybase64 import b64decode\n",
    "from typing import List\n",
    "from collections import defaultdict"
   ]
  },
  {
   "cell_type": "code",
   "execution_count": 2,
   "metadata": {},
   "outputs": [],
   "source": [
    "class RedundantIfElseDetector(ast.NodeVisitor):\n",
    "    '''\n",
    "    Detects: \n",
    "\n",
    "    if cond:\n",
    "        return True\n",
    "    else:\n",
    "        return False\n",
    "\n",
    "    Advises:\n",
    "\n",
    "    return cond\n",
    "    '''\n",
    "    def __init__(self, print_hint=False) -> None:\n",
    "        super().__init__()\n",
    "        self.print_hint = print_hint\n",
    "\n",
    "    def _compose_hint(self, node: ast.If) -> None:\n",
    "        correct_code_tree = ast.Return(value=node.test, kind=None)\n",
    "        correct_code_str = astunparse.unparse(correct_code_tree)\n",
    "        user_code_str = astunparse.unparse(node)\n",
    "        self.hint = (\n",
    "            \"\\n\\nUse \\n\"\n",
    "            f\"{correct_code_str}\"\n",
    "            \"\\n\\nInstead of \\n\"\n",
    "            f\"{user_code_str}\"\n",
    "        )\n",
    "        if self.print_hint:\n",
    "            print(self.hint)\n",
    "\n",
    "    def visit_If(self, node: ast.If) -> None:\n",
    "        body_if: List = node.body\n",
    "        orelse: List = node.orelse\n",
    "\n",
    "        if (\n",
    "            len(body_if) == 1\n",
    "            and isinstance(body_if[0], ast.Return)\n",
    "            and isinstance(body_if[0].value, ast.Constant)\n",
    "            and body_if[0].value.value is True\n",
    "\n",
    "            and len(orelse) == 1\n",
    "            and isinstance(orelse[0], ast.Return)\n",
    "            and isinstance(orelse[0].value, ast.Constant)\n",
    "            and orelse[0].value.value is False\n",
    "        ):\n",
    "            self.detected = True\n",
    "            self._compose_hint(node)\n",
    "\n",
    "    def detect_and_show_hint(self, code: str) -> None:\n",
    "        self.user_code = None\n",
    "        self.hint = None\n",
    "        self.detected = False\n",
    "        \n",
    "        try:\n",
    "            parsed = ast.parse(code)\n",
    "        except Exception:\n",
    "            # ignore solutions where the code can not be executed (due to the user indentation errors - tabs, incorrect spacing) \n",
    "            return\n",
    "\n",
    "        self.visit(parsed)\n",
    "\n",
    "        if self.detected:\n",
    "            self.user_code = code"
   ]
  },
  {
   "cell_type": "code",
   "execution_count": 3,
   "metadata": {},
   "outputs": [],
   "source": [
    "class Runner:\n",
    "    def __init__(self, detector) -> None:\n",
    "        self.detector = detector\n",
    "        self.task_ids = []\n",
    "        self.user_codes = []\n",
    "        self.hints = []\n",
    "        self.counter_task_solutions = defaultdict(lambda: 0)\n",
    "        self.counter_task_errors = defaultdict(lambda: 0)\n",
    "\n",
    "    def run(self):\n",
    "        with open('./solutions-ipython.csv') as csv_file:\n",
    "            csv_reader = csv.reader(csv_file, delimiter=';')\n",
    "            next(csv_reader)\n",
    "    \n",
    "            for row in csv_reader:\n",
    "                task_id = row[1]\n",
    "                solution_encoded = row[2]\n",
    "                solution_decoded = b64decode(solution_encoded).decode(\"utf-8\")\n",
    "                \n",
    "                self.counter_task_solutions[task_id] += 1\n",
    "                self.detector.detect_and_show_hint(code=solution_decoded)\n",
    "\n",
    "                if self.detector.detected:\n",
    "                    self.counter_task_errors[task_id] += 1\n",
    "                    self.task_ids.append(task_id)\n",
    "                    self.user_codes.append(self.detector.user_code)\n",
    "                    self.hints.append(self.detector.hint)\n",
    "\n",
    "        # self.counter_task_solutions = OrderedDict(sorted(self.counter_task_solutions.items()))\n",
    "        # self.counter_task_errors = OrderedDict(sorted(self.counter_task_errors.items()))\n",
    "        print(f\"Total number of detected errors: {len(self.hints)}\")\n",
    "\n",
    "    def increment_counter(self, counter, task_id):\n",
    "        if task_id not in counter.keys():\n",
    "            counter[task_id] = 1\n",
    "        else:\n",
    "            counter[task_id] += 1\n",
    "    \n",
    "    def display_detected_error(self, error_idx):\n",
    "        print(\n",
    "            \"User code: \\n\",\n",
    "            self.user_codes[error_idx],\n",
    "        )\n",
    "        print(\"\\n------------------\\n\")\n",
    "        print(\n",
    "            \"Hint: \\n\",\n",
    "            self.hints[error_idx],\n",
    "        )\n"
   ]
  },
  {
   "cell_type": "code",
   "execution_count": 4,
   "metadata": {},
   "outputs": [
    {
     "name": "stdout",
     "output_type": "stream",
     "text": [
      "Total number of detected errors: 3168\n"
     ]
    }
   ],
   "source": [
    "runner_redundant_if_else_detector = Runner(detector=RedundantIfElseDetector())\n",
    "runner_redundant_if_else_detector.run()"
   ]
  },
  {
   "cell_type": "code",
   "execution_count": 5,
   "metadata": {},
   "outputs": [
    {
     "name": "stdout",
     "output_type": "stream",
     "text": [
      "User code: \n",
      " def is_triangle(a, b, c):\n",
      "    if (a+b>c)and(a+c>b)and(c+b>a):\n",
      "        return True\n",
      "    else: return False\n",
      "\n",
      "\n",
      "------------------\n",
      "\n",
      "Hint: \n",
      " \n",
      "\n",
      "Use \n",
      "\n",
      "return (((a + b) > c) and ((a + c) > b) and ((c + b) > a))\n",
      "\n",
      "\n",
      "Instead of \n",
      "\n",
      "if (((a + b) > c) and ((a + c) > b) and ((c + b) > a)):\n",
      "    return True\n",
      "else:\n",
      "    return False\n",
      "\n"
     ]
    }
   ],
   "source": [
    "runner_redundant_if_else_detector.display_detected_error(error_idx=3000)"
   ]
  },
  {
   "cell_type": "code",
   "execution_count": 6,
   "metadata": {},
   "outputs": [],
   "source": [
    "class RedundantElifDetector(ast.NodeVisitor):\n",
    "    '''\n",
    "    Detects: \n",
    "\n",
    "    if cond_1:\n",
    "        body_1\n",
    "    ...\n",
    "    elif cond_n:\n",
    "        body_n\n",
    "\n",
    "\n",
    "    Advises:\n",
    "\n",
    "    if cond_1:\n",
    "        body_1\n",
    "    ...\n",
    "    else:\n",
    "        body_n\n",
    "\n",
    "\n",
    "    Bonus:\n",
    "    \n",
    "    Removes unreacheable code\n",
    "\n",
    "    '''\n",
    "    def __init__(self, print_hint=False) -> None:\n",
    "        super().__init__()\n",
    "        self.print_hint = print_hint\n",
    "\n",
    "    def _check_ops_2_branches(self, ops):\n",
    "        self.error_detected_2_branches = False\n",
    "        if len(ops) == 2:\n",
    "            op_sets = [\n",
    "                set([ast.Eq, ast.NotEq]),\n",
    "                set([ast.GtE, ast.Lt]),\n",
    "                set([ast.LtE, ast.Gt]),\n",
    "            ]    \n",
    "            for op_set in op_sets:\n",
    "                if (set([type(op) for op in ops]) == op_set):\n",
    "                    self.error_detected_2_branches = True\n",
    "                    break\n",
    "        \n",
    "    def _check_ops_3_branches(self, ops):\n",
    "        self.error_detected_3_branches = False\n",
    "        if len(ops) == 3:\n",
    "            op_set = set([ast.Gt, ast.Lt, ast.Eq])\n",
    "            self.error_detected_3_branches = (set([type(op) for op in ops]) == op_set)\n",
    "\n",
    "    def _compose_hint(self, correct_code_tree, user_code_tree):\n",
    "        correct_code_str = astunparse.unparse(correct_code_tree)\n",
    "        user_code_str = astunparse.unparse(user_code_tree)\n",
    "        self.hint = (\n",
    "            \"\\n\\nUse \\n\"\n",
    "            f\"{correct_code_str}\"\n",
    "            \"\\n\\nInstead of \\n\"\n",
    "            f\"{user_code_str}\"\n",
    "        )\n",
    "        if self.print_hint:\n",
    "            print(self.hint)\n",
    "\n",
    "    def _compose_hint_ast_2_branches(self, if_node: ast.If):\n",
    "        correct_code_tree = ast.If(\n",
    "            test=if_node.test,\n",
    "            body=if_node.body,\n",
    "            orelse=if_node.orelse[0].body, \n",
    "        )\n",
    "        self._compose_hint(correct_code_tree, if_node)\n",
    "\n",
    "    def _compose_hint_ast_3_branches(self, if_node: ast.If):\n",
    "        correct_code_tree = ast.If(\n",
    "            test=if_node.test,\n",
    "            body=if_node.body,\n",
    "            orelse=[ast.If(\n",
    "                test=if_node.orelse[0].test,\n",
    "                body=if_node.orelse[0].body,\n",
    "                orelse=if_node.orelse[0].orelse[0].body,\n",
    "            )],\n",
    "        )\n",
    "        self._compose_hint(correct_code_tree, if_node)\n",
    "\n",
    "    def _parse_if_node_level(self, if_node: ast.If):\n",
    "        parsed_success = False\n",
    "        left, comparators, ops, orelse = None, None, None, None\n",
    "        \n",
    "        if isinstance(if_node.test, ast.Compare):\n",
    "            compare: ast.Compare = if_node.test\n",
    "            left: str = astunparse.unparse(compare.left)\n",
    "            comparators: str = astunparse.unparse(compare.comparators)\n",
    "            ops: List = compare.ops\n",
    "            orelse: List = if_node.orelse\n",
    "            parsed_success = True\n",
    "\n",
    "        return parsed_success, left, comparators, ops, orelse\n",
    "\n",
    "    def _detect_error_2_branches(self, if_node: ast.If):\n",
    "        check_next_branch = False\n",
    "        left_2, comparators_2, ops, orelse_2 = None, None, None, None\n",
    "\n",
    "        parsed_success, left_1, comparators_1, ops_1, orelse_1 = self._parse_if_node_level(if_node)\n",
    "\n",
    "        if parsed_success and len(orelse_1) == 1 and isinstance(orelse_1[0], ast.If):\n",
    "            elif_node: ast.If = orelse_1[0]\n",
    "            parsed_success, left_2, comparators_2, ops_2, orelse_2 = self._parse_if_node_level(elif_node)\n",
    "\n",
    "            if parsed_success and left_1 == left_2 and comparators_1 == comparators_2:\n",
    "                ops = ops_1 + ops_2\n",
    "                self._check_ops_2_branches(ops)\n",
    "                check_next_branch = True\n",
    "                \n",
    "                if self.error_detected_2_branches:\n",
    "                    self._compose_hint_ast_2_branches(if_node)\n",
    "        \n",
    "        return check_next_branch, left_2, comparators_2, ops, orelse_2\n",
    "    \n",
    "    def _detect_error_3_branches(self, if_node: ast.If, left_2, comparators_2, ops, orelse_2):\n",
    "        if len(orelse_2) == 1 and isinstance(orelse_2[0], ast.If):\n",
    "            elif_node: ast.If = orelse_2[0]\n",
    "            parsed_success, left_3, comparators_3, ops_3, _ = self._parse_if_node_level(elif_node)\n",
    "\n",
    "            if parsed_success and left_3 == left_2 and comparators_2 == comparators_3:\n",
    "                ops = ops + ops_3\n",
    "                self._check_ops_3_branches(ops)\n",
    "\n",
    "                if self.error_detected_3_branches:\n",
    "                    self._compose_hint_ast_3_branches(if_node)\n",
    "    \n",
    "    def visit_If(self, if_node: ast.If) -> None:\n",
    "        check_next_branch, left_2, comparators_2, ops, orelse_2 = self._detect_error_2_branches(if_node)\n",
    "\n",
    "        if self.error_detected_2_branches:\n",
    "            return\n",
    "\n",
    "        if check_next_branch:\n",
    "            self._detect_error_3_branches(if_node, left_2, comparators_2, ops, orelse_2)    \n",
    "\n",
    "    def detect_and_show_hint(self, code: str) -> None:\n",
    "        self.user_code = None\n",
    "        self.hint = None\n",
    "        self.error_detected_2_branches = False\n",
    "        self.error_detected_3_branches = False\n",
    "\n",
    "        try:\n",
    "            parsed = ast.parse(code)\n",
    "        except Exception:\n",
    "            # ignore solutions where the code can not be executed (due to the user indentation errors - tabs, incorrect spacing) \n",
    "            return\n",
    "\n",
    "        self.visit(parsed)\n",
    "\n",
    "        self.detected = self.error_detected_2_branches or self.error_detected_3_branches\n",
    "\n",
    "        if self.detected:\n",
    "            self.user_code = code"
   ]
  },
  {
   "cell_type": "code",
   "execution_count": 7,
   "metadata": {},
   "outputs": [
    {
     "name": "stdout",
     "output_type": "stream",
     "text": [
      "Total number of detected errors: 309\n"
     ]
    }
   ],
   "source": [
    "runner_redundant_elif_detector = Runner(detector=RedundantElifDetector())\n",
    "runner_redundant_elif_detector.run()"
   ]
  },
  {
   "cell_type": "code",
   "execution_count": 8,
   "metadata": {},
   "outputs": [
    {
     "name": "stdout",
     "output_type": "stream",
     "text": [
      "User code: \n",
      " def check(p, k):\n",
      "    if p==4*k:\n",
      "        print(\"OK\")\n",
      "    elif p > 4*k:\n",
      "        print(\"Prebyva:\", p-4*k)\n",
      "    elif p < 4*k:\n",
      "        print(\"Chybi:\", abs(p-4*k))\n",
      "    else:\n",
      "        print(\"Incorrect Ex\")\n",
      "\n",
      "------------------\n",
      "\n",
      "Hint: \n",
      " \n",
      "\n",
      "Use \n",
      "\n",
      "if (p == (4 * k)):\n",
      "    print('OK')\n",
      "elif (p > (4 * k)):\n",
      "    print('Prebyva:', (p - (4 * k)))\n",
      "else:\n",
      "    print('Chybi:', abs((p - (4 * k))))\n",
      "\n",
      "\n",
      "Instead of \n",
      "\n",
      "if (p == (4 * k)):\n",
      "    print('OK')\n",
      "elif (p > (4 * k)):\n",
      "    print('Prebyva:', (p - (4 * k)))\n",
      "elif (p < (4 * k)):\n",
      "    print('Chybi:', abs((p - (4 * k))))\n",
      "else:\n",
      "    print('Incorrect Ex')\n",
      "\n"
     ]
    }
   ],
   "source": [
    "runner_redundant_elif_detector.display_detected_error(error_idx=230)"
   ]
  },
  {
   "cell_type": "code",
   "execution_count": 9,
   "metadata": {},
   "outputs": [],
   "source": [
    "import plotly.graph_objects as go\n",
    "import math"
   ]
  },
  {
   "cell_type": "code",
   "execution_count": 10,
   "metadata": {},
   "outputs": [],
   "source": [
    "class Visualizer:\n",
    "    def __init__(self, detector_name, counter_task_solutions, counter_task_errors):\n",
    "        self.detector_name = detector_name\n",
    "        self.counter_task_solutions = counter_task_solutions\n",
    "        self.counter_task_errors = counter_task_errors\n",
    "    \n",
    "    def _process_data(self):\n",
    "        self.task_ids = []\n",
    "        self.num_errors = []\n",
    "        self.error_rates = []\n",
    "        self.hover_texts = []\n",
    "        for (task_id, n_errors), n_solutions in zip(self.counter_task_errors.items(), self.counter_task_solutions.values()):\n",
    "            error_rate = round(n_errors / n_solutions, 4)\n",
    "            self.task_ids.append(task_id)\n",
    "            self.num_errors.append(n_errors)\n",
    "            self.error_rates.append(error_rate)\n",
    "            self.hover_texts.append(\n",
    "                f\"Task_id: {task_id} <br>\"\n",
    "                f\"Number of detected errors: {n_errors} <br>\"\n",
    "                f\"Number of solutions: {n_solutions} <br>\"\n",
    "                f\"Error rate: {error_rate} <br>\"\n",
    "            )\n",
    "        self.min_task_id = min(self.task_ids)\n",
    "        self.max_task_id = max(self.task_ids)\n",
    "        max_num_errors = max(self.num_errors)\n",
    "        self.y_axis_dtick = max_num_errors // 5\n",
    "        max_error_rate = max(self.error_rates)\n",
    "        self.colorbar_dtick = round(max_error_rate / 5, 2)\n",
    "        self.sizes = [100 * round(math.sqrt(e_r / max_error_rate), 4)for e_r in self.error_rates]\n",
    "\n",
    "\n",
    "    def display_visualization(self):\n",
    "        self._process_data()\n",
    "        fig = go.Figure(\n",
    "            layout=go.Layout(\n",
    "                    title=dict(\n",
    "                        text=f\"<b> {self.detector_name}: Number of errors v. Task ID </b>\",\n",
    "                        x=0.5,\n",
    "                    ),\n",
    "                    xaxis=dict(\n",
    "                        title=\"Task ID\",\n",
    "                        type=\"linear\",\n",
    "                        dtick=5,\n",
    "                    ),\n",
    "                    yaxis=dict(\n",
    "                        title=\"Number of errors\",\n",
    "                        dtick=self.y_axis_dtick,\n",
    "                    ),\n",
    "                ),\n",
    "            data=[\n",
    "                go.Scatter(\n",
    "                    x=self.task_ids,\n",
    "                    y=self.num_errors,\n",
    "                    mode='markers',\n",
    "                    marker=dict(\n",
    "                        color=self.error_rates,\n",
    "                        size=self.sizes,\n",
    "                        colorbar=dict(\n",
    "                            title=\"Error rate\",\n",
    "                            dtick=self.colorbar_dtick,\n",
    "                        ),\n",
    "                    ),\n",
    "                    text=self.hover_texts,\n",
    "                )\n",
    "            ]\n",
    "        )\n",
    "        fig.show()\n",
    "        return fig"
   ]
  },
  {
   "cell_type": "code",
   "execution_count": 11,
   "metadata": {},
   "outputs": [
    {
     "data": {
      "application/vnd.plotly.v1+json": {
       "config": {
        "plotlyServerURL": "https://plotly.com"
       },
       "data": [
        {
         "marker": {
          "color": [
           0.4627,
           0.257,
           0.4507,
           0.1284,
           0.5906,
           0.3935,
           0.389,
           0.2443,
           0.0143,
           0.0047,
           0.1009,
           0.1011,
           0.044,
           0.0497,
           0.031
          ],
          "colorbar": {
           "dtick": 0.12,
           "title": {
            "text": "Error rate"
           }
          },
          "size": [
           88.51,
           65.97,
           87.36,
           46.63,
           100,
           81.63,
           81.16,
           64.32,
           15.559999999999999,
           8.92,
           41.33,
           41.370000000000005,
           27.29,
           29.01,
           22.91
          ]
         },
         "mode": "markers",
         "text": [
          "Task_id: 33 <br>Number of detected errors: 521 <br>Number of solutions: 1126 <br>Error rate: 0.4627 <br>",
          "Task_id: 42 <br>Number of detected errors: 566 <br>Number of solutions: 2202 <br>Error rate: 0.257 <br>",
          "Task_id: 60 <br>Number of detected errors: 201 <br>Number of solutions: 446 <br>Error rate: 0.4507 <br>",
          "Task_id: 64 <br>Number of detected errors: 190 <br>Number of solutions: 1480 <br>Error rate: 0.1284 <br>",
          "Task_id: 63 <br>Number of detected errors: 639 <br>Number of solutions: 1082 <br>Error rate: 0.5906 <br>",
          "Task_id: 41 <br>Number of detected errors: 301 <br>Number of solutions: 765 <br>Error rate: 0.3935 <br>",
          "Task_id: 32 <br>Number of detected errors: 270 <br>Number of solutions: 694 <br>Error rate: 0.389 <br>",
          "Task_id: 14 <br>Number of detected errors: 160 <br>Number of solutions: 655 <br>Error rate: 0.2443 <br>",
          "Task_id: 22 <br>Number of detected errors: 9 <br>Number of solutions: 628 <br>Error rate: 0.0143 <br>",
          "Task_id: 69 <br>Number of detected errors: 3 <br>Number of solutions: 635 <br>Error rate: 0.0047 <br>",
          "Task_id: 71 <br>Number of detected errors: 54 <br>Number of solutions: 535 <br>Error rate: 0.1009 <br>",
          "Task_id: 76 <br>Number of detected errors: 53 <br>Number of solutions: 524 <br>Error rate: 0.1011 <br>",
          "Task_id: 83 <br>Number of detected errors: 72 <br>Number of solutions: 1636 <br>Error rate: 0.044 <br>",
          "Task_id: 85 <br>Number of detected errors: 72 <br>Number of solutions: 1449 <br>Error rate: 0.0497 <br>",
          "Task_id: 91 <br>Number of detected errors: 57 <br>Number of solutions: 1839 <br>Error rate: 0.031 <br>"
         ],
         "type": "scatter",
         "x": [
          "33",
          "42",
          "60",
          "64",
          "63",
          "41",
          "32",
          "14",
          "22",
          "69",
          "71",
          "76",
          "83",
          "85",
          "91"
         ],
         "y": [
          521,
          566,
          201,
          190,
          639,
          301,
          270,
          160,
          9,
          3,
          54,
          53,
          72,
          72,
          57
         ]
        }
       ],
       "layout": {
        "template": {
         "data": {
          "bar": [
           {
            "error_x": {
             "color": "#2a3f5f"
            },
            "error_y": {
             "color": "#2a3f5f"
            },
            "marker": {
             "line": {
              "color": "#E5ECF6",
              "width": 0.5
             }
            },
            "type": "bar"
           }
          ],
          "barpolar": [
           {
            "marker": {
             "line": {
              "color": "#E5ECF6",
              "width": 0.5
             }
            },
            "type": "barpolar"
           }
          ],
          "carpet": [
           {
            "aaxis": {
             "endlinecolor": "#2a3f5f",
             "gridcolor": "white",
             "linecolor": "white",
             "minorgridcolor": "white",
             "startlinecolor": "#2a3f5f"
            },
            "baxis": {
             "endlinecolor": "#2a3f5f",
             "gridcolor": "white",
             "linecolor": "white",
             "minorgridcolor": "white",
             "startlinecolor": "#2a3f5f"
            },
            "type": "carpet"
           }
          ],
          "choropleth": [
           {
            "colorbar": {
             "outlinewidth": 0,
             "ticks": ""
            },
            "type": "choropleth"
           }
          ],
          "contour": [
           {
            "colorbar": {
             "outlinewidth": 0,
             "ticks": ""
            },
            "colorscale": [
             [
              0,
              "#0d0887"
             ],
             [
              0.1111111111111111,
              "#46039f"
             ],
             [
              0.2222222222222222,
              "#7201a8"
             ],
             [
              0.3333333333333333,
              "#9c179e"
             ],
             [
              0.4444444444444444,
              "#bd3786"
             ],
             [
              0.5555555555555556,
              "#d8576b"
             ],
             [
              0.6666666666666666,
              "#ed7953"
             ],
             [
              0.7777777777777778,
              "#fb9f3a"
             ],
             [
              0.8888888888888888,
              "#fdca26"
             ],
             [
              1,
              "#f0f921"
             ]
            ],
            "type": "contour"
           }
          ],
          "contourcarpet": [
           {
            "colorbar": {
             "outlinewidth": 0,
             "ticks": ""
            },
            "type": "contourcarpet"
           }
          ],
          "heatmap": [
           {
            "colorbar": {
             "outlinewidth": 0,
             "ticks": ""
            },
            "colorscale": [
             [
              0,
              "#0d0887"
             ],
             [
              0.1111111111111111,
              "#46039f"
             ],
             [
              0.2222222222222222,
              "#7201a8"
             ],
             [
              0.3333333333333333,
              "#9c179e"
             ],
             [
              0.4444444444444444,
              "#bd3786"
             ],
             [
              0.5555555555555556,
              "#d8576b"
             ],
             [
              0.6666666666666666,
              "#ed7953"
             ],
             [
              0.7777777777777778,
              "#fb9f3a"
             ],
             [
              0.8888888888888888,
              "#fdca26"
             ],
             [
              1,
              "#f0f921"
             ]
            ],
            "type": "heatmap"
           }
          ],
          "heatmapgl": [
           {
            "colorbar": {
             "outlinewidth": 0,
             "ticks": ""
            },
            "colorscale": [
             [
              0,
              "#0d0887"
             ],
             [
              0.1111111111111111,
              "#46039f"
             ],
             [
              0.2222222222222222,
              "#7201a8"
             ],
             [
              0.3333333333333333,
              "#9c179e"
             ],
             [
              0.4444444444444444,
              "#bd3786"
             ],
             [
              0.5555555555555556,
              "#d8576b"
             ],
             [
              0.6666666666666666,
              "#ed7953"
             ],
             [
              0.7777777777777778,
              "#fb9f3a"
             ],
             [
              0.8888888888888888,
              "#fdca26"
             ],
             [
              1,
              "#f0f921"
             ]
            ],
            "type": "heatmapgl"
           }
          ],
          "histogram": [
           {
            "marker": {
             "colorbar": {
              "outlinewidth": 0,
              "ticks": ""
             }
            },
            "type": "histogram"
           }
          ],
          "histogram2d": [
           {
            "colorbar": {
             "outlinewidth": 0,
             "ticks": ""
            },
            "colorscale": [
             [
              0,
              "#0d0887"
             ],
             [
              0.1111111111111111,
              "#46039f"
             ],
             [
              0.2222222222222222,
              "#7201a8"
             ],
             [
              0.3333333333333333,
              "#9c179e"
             ],
             [
              0.4444444444444444,
              "#bd3786"
             ],
             [
              0.5555555555555556,
              "#d8576b"
             ],
             [
              0.6666666666666666,
              "#ed7953"
             ],
             [
              0.7777777777777778,
              "#fb9f3a"
             ],
             [
              0.8888888888888888,
              "#fdca26"
             ],
             [
              1,
              "#f0f921"
             ]
            ],
            "type": "histogram2d"
           }
          ],
          "histogram2dcontour": [
           {
            "colorbar": {
             "outlinewidth": 0,
             "ticks": ""
            },
            "colorscale": [
             [
              0,
              "#0d0887"
             ],
             [
              0.1111111111111111,
              "#46039f"
             ],
             [
              0.2222222222222222,
              "#7201a8"
             ],
             [
              0.3333333333333333,
              "#9c179e"
             ],
             [
              0.4444444444444444,
              "#bd3786"
             ],
             [
              0.5555555555555556,
              "#d8576b"
             ],
             [
              0.6666666666666666,
              "#ed7953"
             ],
             [
              0.7777777777777778,
              "#fb9f3a"
             ],
             [
              0.8888888888888888,
              "#fdca26"
             ],
             [
              1,
              "#f0f921"
             ]
            ],
            "type": "histogram2dcontour"
           }
          ],
          "mesh3d": [
           {
            "colorbar": {
             "outlinewidth": 0,
             "ticks": ""
            },
            "type": "mesh3d"
           }
          ],
          "parcoords": [
           {
            "line": {
             "colorbar": {
              "outlinewidth": 0,
              "ticks": ""
             }
            },
            "type": "parcoords"
           }
          ],
          "pie": [
           {
            "automargin": true,
            "type": "pie"
           }
          ],
          "scatter": [
           {
            "marker": {
             "colorbar": {
              "outlinewidth": 0,
              "ticks": ""
             }
            },
            "type": "scatter"
           }
          ],
          "scatter3d": [
           {
            "line": {
             "colorbar": {
              "outlinewidth": 0,
              "ticks": ""
             }
            },
            "marker": {
             "colorbar": {
              "outlinewidth": 0,
              "ticks": ""
             }
            },
            "type": "scatter3d"
           }
          ],
          "scattercarpet": [
           {
            "marker": {
             "colorbar": {
              "outlinewidth": 0,
              "ticks": ""
             }
            },
            "type": "scattercarpet"
           }
          ],
          "scattergeo": [
           {
            "marker": {
             "colorbar": {
              "outlinewidth": 0,
              "ticks": ""
             }
            },
            "type": "scattergeo"
           }
          ],
          "scattergl": [
           {
            "marker": {
             "colorbar": {
              "outlinewidth": 0,
              "ticks": ""
             }
            },
            "type": "scattergl"
           }
          ],
          "scattermapbox": [
           {
            "marker": {
             "colorbar": {
              "outlinewidth": 0,
              "ticks": ""
             }
            },
            "type": "scattermapbox"
           }
          ],
          "scatterpolar": [
           {
            "marker": {
             "colorbar": {
              "outlinewidth": 0,
              "ticks": ""
             }
            },
            "type": "scatterpolar"
           }
          ],
          "scatterpolargl": [
           {
            "marker": {
             "colorbar": {
              "outlinewidth": 0,
              "ticks": ""
             }
            },
            "type": "scatterpolargl"
           }
          ],
          "scatterternary": [
           {
            "marker": {
             "colorbar": {
              "outlinewidth": 0,
              "ticks": ""
             }
            },
            "type": "scatterternary"
           }
          ],
          "surface": [
           {
            "colorbar": {
             "outlinewidth": 0,
             "ticks": ""
            },
            "colorscale": [
             [
              0,
              "#0d0887"
             ],
             [
              0.1111111111111111,
              "#46039f"
             ],
             [
              0.2222222222222222,
              "#7201a8"
             ],
             [
              0.3333333333333333,
              "#9c179e"
             ],
             [
              0.4444444444444444,
              "#bd3786"
             ],
             [
              0.5555555555555556,
              "#d8576b"
             ],
             [
              0.6666666666666666,
              "#ed7953"
             ],
             [
              0.7777777777777778,
              "#fb9f3a"
             ],
             [
              0.8888888888888888,
              "#fdca26"
             ],
             [
              1,
              "#f0f921"
             ]
            ],
            "type": "surface"
           }
          ],
          "table": [
           {
            "cells": {
             "fill": {
              "color": "#EBF0F8"
             },
             "line": {
              "color": "white"
             }
            },
            "header": {
             "fill": {
              "color": "#C8D4E3"
             },
             "line": {
              "color": "white"
             }
            },
            "type": "table"
           }
          ]
         },
         "layout": {
          "annotationdefaults": {
           "arrowcolor": "#2a3f5f",
           "arrowhead": 0,
           "arrowwidth": 1
          },
          "autotypenumbers": "strict",
          "coloraxis": {
           "colorbar": {
            "outlinewidth": 0,
            "ticks": ""
           }
          },
          "colorscale": {
           "diverging": [
            [
             0,
             "#8e0152"
            ],
            [
             0.1,
             "#c51b7d"
            ],
            [
             0.2,
             "#de77ae"
            ],
            [
             0.3,
             "#f1b6da"
            ],
            [
             0.4,
             "#fde0ef"
            ],
            [
             0.5,
             "#f7f7f7"
            ],
            [
             0.6,
             "#e6f5d0"
            ],
            [
             0.7,
             "#b8e186"
            ],
            [
             0.8,
             "#7fbc41"
            ],
            [
             0.9,
             "#4d9221"
            ],
            [
             1,
             "#276419"
            ]
           ],
           "sequential": [
            [
             0,
             "#0d0887"
            ],
            [
             0.1111111111111111,
             "#46039f"
            ],
            [
             0.2222222222222222,
             "#7201a8"
            ],
            [
             0.3333333333333333,
             "#9c179e"
            ],
            [
             0.4444444444444444,
             "#bd3786"
            ],
            [
             0.5555555555555556,
             "#d8576b"
            ],
            [
             0.6666666666666666,
             "#ed7953"
            ],
            [
             0.7777777777777778,
             "#fb9f3a"
            ],
            [
             0.8888888888888888,
             "#fdca26"
            ],
            [
             1,
             "#f0f921"
            ]
           ],
           "sequentialminus": [
            [
             0,
             "#0d0887"
            ],
            [
             0.1111111111111111,
             "#46039f"
            ],
            [
             0.2222222222222222,
             "#7201a8"
            ],
            [
             0.3333333333333333,
             "#9c179e"
            ],
            [
             0.4444444444444444,
             "#bd3786"
            ],
            [
             0.5555555555555556,
             "#d8576b"
            ],
            [
             0.6666666666666666,
             "#ed7953"
            ],
            [
             0.7777777777777778,
             "#fb9f3a"
            ],
            [
             0.8888888888888888,
             "#fdca26"
            ],
            [
             1,
             "#f0f921"
            ]
           ]
          },
          "colorway": [
           "#636efa",
           "#EF553B",
           "#00cc96",
           "#ab63fa",
           "#FFA15A",
           "#19d3f3",
           "#FF6692",
           "#B6E880",
           "#FF97FF",
           "#FECB52"
          ],
          "font": {
           "color": "#2a3f5f"
          },
          "geo": {
           "bgcolor": "white",
           "lakecolor": "white",
           "landcolor": "#E5ECF6",
           "showlakes": true,
           "showland": true,
           "subunitcolor": "white"
          },
          "hoverlabel": {
           "align": "left"
          },
          "hovermode": "closest",
          "mapbox": {
           "style": "light"
          },
          "paper_bgcolor": "white",
          "plot_bgcolor": "#E5ECF6",
          "polar": {
           "angularaxis": {
            "gridcolor": "white",
            "linecolor": "white",
            "ticks": ""
           },
           "bgcolor": "#E5ECF6",
           "radialaxis": {
            "gridcolor": "white",
            "linecolor": "white",
            "ticks": ""
           }
          },
          "scene": {
           "xaxis": {
            "backgroundcolor": "#E5ECF6",
            "gridcolor": "white",
            "gridwidth": 2,
            "linecolor": "white",
            "showbackground": true,
            "ticks": "",
            "zerolinecolor": "white"
           },
           "yaxis": {
            "backgroundcolor": "#E5ECF6",
            "gridcolor": "white",
            "gridwidth": 2,
            "linecolor": "white",
            "showbackground": true,
            "ticks": "",
            "zerolinecolor": "white"
           },
           "zaxis": {
            "backgroundcolor": "#E5ECF6",
            "gridcolor": "white",
            "gridwidth": 2,
            "linecolor": "white",
            "showbackground": true,
            "ticks": "",
            "zerolinecolor": "white"
           }
          },
          "shapedefaults": {
           "line": {
            "color": "#2a3f5f"
           }
          },
          "ternary": {
           "aaxis": {
            "gridcolor": "white",
            "linecolor": "white",
            "ticks": ""
           },
           "baxis": {
            "gridcolor": "white",
            "linecolor": "white",
            "ticks": ""
           },
           "bgcolor": "#E5ECF6",
           "caxis": {
            "gridcolor": "white",
            "linecolor": "white",
            "ticks": ""
           }
          },
          "title": {
           "x": 0.05
          },
          "xaxis": {
           "automargin": true,
           "gridcolor": "white",
           "linecolor": "white",
           "ticks": "",
           "title": {
            "standoff": 15
           },
           "zerolinecolor": "white",
           "zerolinewidth": 2
          },
          "yaxis": {
           "automargin": true,
           "gridcolor": "white",
           "linecolor": "white",
           "ticks": "",
           "title": {
            "standoff": 15
           },
           "zerolinecolor": "white",
           "zerolinewidth": 2
          }
         }
        },
        "title": {
         "text": "<b> Redundant if else detector: Number of errors v. Task ID </b>",
         "x": 0.5
        },
        "xaxis": {
         "dtick": 5,
         "title": {
          "text": "Task ID"
         },
         "type": "linear"
        },
        "yaxis": {
         "dtick": 127,
         "title": {
          "text": "Number of errors"
         }
        }
       }
      }
     },
     "metadata": {},
     "output_type": "display_data"
    }
   ],
   "source": [
    "visualizer_redundant_if_else_detector = Visualizer(\n",
    "    detector_name=\"Redundant if else detector\",\n",
    "    counter_task_solutions=runner_redundant_if_else_detector.counter_task_solutions,\n",
    "    counter_task_errors=runner_redundant_if_else_detector.counter_task_errors,\n",
    "    )\n",
    "\n",
    "fig_redundant_if_else_detector = visualizer_redundant_if_else_detector.display_visualization()"
   ]
  },
  {
   "cell_type": "code",
   "execution_count": 12,
   "metadata": {},
   "outputs": [
    {
     "data": {
      "application/vnd.plotly.v1+json": {
       "config": {
        "plotlyServerURL": "https://plotly.com"
       },
       "data": [
        {
         "marker": {
          "color": [
           0.0044,
           0.0114,
           0.0022,
           0.0007,
           0.073,
           0.0222,
           0.1499,
           0.0046,
           0.0016,
           0.0016,
           0.0037,
           0.0153,
           0.0037,
           0.0007,
           0.0016,
           0.0012,
           0.0133,
           0.0438,
           0.0129,
           0.0216
          ],
          "colorbar": {
           "dtick": 0.03,
           "title": {
            "text": "Error rate"
           }
          },
          "size": [
           17.130000000000003,
           27.58,
           12.11,
           6.83,
           69.78,
           38.48,
           100,
           17.52,
           10.33,
           10.33,
           15.709999999999999,
           31.95,
           15.709999999999999,
           6.83,
           10.33,
           8.95,
           29.79,
           54.059999999999995,
           29.34,
           37.96
          ]
         },
         "mode": "markers",
         "text": [
          "Task_id: 67 <br>Number of detected errors: 5 <br>Number of solutions: 1126 <br>Error rate: 0.0044 <br>",
          "Task_id: 63 <br>Number of detected errors: 25 <br>Number of solutions: 2202 <br>Error rate: 0.0114 <br>",
          "Task_id: 50 <br>Number of detected errors: 1 <br>Number of solutions: 446 <br>Error rate: 0.0022 <br>",
          "Task_id: 41 <br>Number of detected errors: 1 <br>Number of solutions: 1480 <br>Error rate: 0.0007 <br>",
          "Task_id: 54 <br>Number of detected errors: 79 <br>Number of solutions: 1082 <br>Error rate: 0.073 <br>",
          "Task_id: 51 <br>Number of detected errors: 17 <br>Number of solutions: 765 <br>Error rate: 0.0222 <br>",
          "Task_id: 55 <br>Number of detected errors: 104 <br>Number of solutions: 694 <br>Error rate: 0.1499 <br>",
          "Task_id: 23 <br>Number of detected errors: 3 <br>Number of solutions: 655 <br>Error rate: 0.0046 <br>",
          "Task_id: 6 <br>Number of detected errors: 1 <br>Number of solutions: 628 <br>Error rate: 0.0016 <br>",
          "Task_id: 31 <br>Number of detected errors: 1 <br>Number of solutions: 635 <br>Error rate: 0.0016 <br>",
          "Task_id: 13 <br>Number of detected errors: 2 <br>Number of solutions: 535 <br>Error rate: 0.0037 <br>",
          "Task_id: 28 <br>Number of detected errors: 8 <br>Number of solutions: 524 <br>Error rate: 0.0153 <br>",
          "Task_id: 4 <br>Number of detected errors: 6 <br>Number of solutions: 1636 <br>Error rate: 0.0037 <br>",
          "Task_id: 71 <br>Number of detected errors: 1 <br>Number of solutions: 1449 <br>Error rate: 0.0007 <br>",
          "Task_id: 82 <br>Number of detected errors: 3 <br>Number of solutions: 1839 <br>Error rate: 0.0016 <br>",
          "Task_id: 78 <br>Number of detected errors: 1 <br>Number of solutions: 860 <br>Error rate: 0.0012 <br>",
          "Task_id: 86 <br>Number of detected errors: 10 <br>Number of solutions: 753 <br>Error rate: 0.0133 <br>",
          "Task_id: 87 <br>Number of detected errors: 23 <br>Number of solutions: 525 <br>Error rate: 0.0438 <br>",
          "Task_id: 89 <br>Number of detected errors: 6 <br>Number of solutions: 465 <br>Error rate: 0.0129 <br>",
          "Task_id: 92 <br>Number of detected errors: 12 <br>Number of solutions: 555 <br>Error rate: 0.0216 <br>"
         ],
         "type": "scatter",
         "x": [
          "67",
          "63",
          "50",
          "41",
          "54",
          "51",
          "55",
          "23",
          "6",
          "31",
          "13",
          "28",
          "4",
          "71",
          "82",
          "78",
          "86",
          "87",
          "89",
          "92"
         ],
         "y": [
          5,
          25,
          1,
          1,
          79,
          17,
          104,
          3,
          1,
          1,
          2,
          8,
          6,
          1,
          3,
          1,
          10,
          23,
          6,
          12
         ]
        }
       ],
       "layout": {
        "template": {
         "data": {
          "bar": [
           {
            "error_x": {
             "color": "#2a3f5f"
            },
            "error_y": {
             "color": "#2a3f5f"
            },
            "marker": {
             "line": {
              "color": "#E5ECF6",
              "width": 0.5
             }
            },
            "type": "bar"
           }
          ],
          "barpolar": [
           {
            "marker": {
             "line": {
              "color": "#E5ECF6",
              "width": 0.5
             }
            },
            "type": "barpolar"
           }
          ],
          "carpet": [
           {
            "aaxis": {
             "endlinecolor": "#2a3f5f",
             "gridcolor": "white",
             "linecolor": "white",
             "minorgridcolor": "white",
             "startlinecolor": "#2a3f5f"
            },
            "baxis": {
             "endlinecolor": "#2a3f5f",
             "gridcolor": "white",
             "linecolor": "white",
             "minorgridcolor": "white",
             "startlinecolor": "#2a3f5f"
            },
            "type": "carpet"
           }
          ],
          "choropleth": [
           {
            "colorbar": {
             "outlinewidth": 0,
             "ticks": ""
            },
            "type": "choropleth"
           }
          ],
          "contour": [
           {
            "colorbar": {
             "outlinewidth": 0,
             "ticks": ""
            },
            "colorscale": [
             [
              0,
              "#0d0887"
             ],
             [
              0.1111111111111111,
              "#46039f"
             ],
             [
              0.2222222222222222,
              "#7201a8"
             ],
             [
              0.3333333333333333,
              "#9c179e"
             ],
             [
              0.4444444444444444,
              "#bd3786"
             ],
             [
              0.5555555555555556,
              "#d8576b"
             ],
             [
              0.6666666666666666,
              "#ed7953"
             ],
             [
              0.7777777777777778,
              "#fb9f3a"
             ],
             [
              0.8888888888888888,
              "#fdca26"
             ],
             [
              1,
              "#f0f921"
             ]
            ],
            "type": "contour"
           }
          ],
          "contourcarpet": [
           {
            "colorbar": {
             "outlinewidth": 0,
             "ticks": ""
            },
            "type": "contourcarpet"
           }
          ],
          "heatmap": [
           {
            "colorbar": {
             "outlinewidth": 0,
             "ticks": ""
            },
            "colorscale": [
             [
              0,
              "#0d0887"
             ],
             [
              0.1111111111111111,
              "#46039f"
             ],
             [
              0.2222222222222222,
              "#7201a8"
             ],
             [
              0.3333333333333333,
              "#9c179e"
             ],
             [
              0.4444444444444444,
              "#bd3786"
             ],
             [
              0.5555555555555556,
              "#d8576b"
             ],
             [
              0.6666666666666666,
              "#ed7953"
             ],
             [
              0.7777777777777778,
              "#fb9f3a"
             ],
             [
              0.8888888888888888,
              "#fdca26"
             ],
             [
              1,
              "#f0f921"
             ]
            ],
            "type": "heatmap"
           }
          ],
          "heatmapgl": [
           {
            "colorbar": {
             "outlinewidth": 0,
             "ticks": ""
            },
            "colorscale": [
             [
              0,
              "#0d0887"
             ],
             [
              0.1111111111111111,
              "#46039f"
             ],
             [
              0.2222222222222222,
              "#7201a8"
             ],
             [
              0.3333333333333333,
              "#9c179e"
             ],
             [
              0.4444444444444444,
              "#bd3786"
             ],
             [
              0.5555555555555556,
              "#d8576b"
             ],
             [
              0.6666666666666666,
              "#ed7953"
             ],
             [
              0.7777777777777778,
              "#fb9f3a"
             ],
             [
              0.8888888888888888,
              "#fdca26"
             ],
             [
              1,
              "#f0f921"
             ]
            ],
            "type": "heatmapgl"
           }
          ],
          "histogram": [
           {
            "marker": {
             "colorbar": {
              "outlinewidth": 0,
              "ticks": ""
             }
            },
            "type": "histogram"
           }
          ],
          "histogram2d": [
           {
            "colorbar": {
             "outlinewidth": 0,
             "ticks": ""
            },
            "colorscale": [
             [
              0,
              "#0d0887"
             ],
             [
              0.1111111111111111,
              "#46039f"
             ],
             [
              0.2222222222222222,
              "#7201a8"
             ],
             [
              0.3333333333333333,
              "#9c179e"
             ],
             [
              0.4444444444444444,
              "#bd3786"
             ],
             [
              0.5555555555555556,
              "#d8576b"
             ],
             [
              0.6666666666666666,
              "#ed7953"
             ],
             [
              0.7777777777777778,
              "#fb9f3a"
             ],
             [
              0.8888888888888888,
              "#fdca26"
             ],
             [
              1,
              "#f0f921"
             ]
            ],
            "type": "histogram2d"
           }
          ],
          "histogram2dcontour": [
           {
            "colorbar": {
             "outlinewidth": 0,
             "ticks": ""
            },
            "colorscale": [
             [
              0,
              "#0d0887"
             ],
             [
              0.1111111111111111,
              "#46039f"
             ],
             [
              0.2222222222222222,
              "#7201a8"
             ],
             [
              0.3333333333333333,
              "#9c179e"
             ],
             [
              0.4444444444444444,
              "#bd3786"
             ],
             [
              0.5555555555555556,
              "#d8576b"
             ],
             [
              0.6666666666666666,
              "#ed7953"
             ],
             [
              0.7777777777777778,
              "#fb9f3a"
             ],
             [
              0.8888888888888888,
              "#fdca26"
             ],
             [
              1,
              "#f0f921"
             ]
            ],
            "type": "histogram2dcontour"
           }
          ],
          "mesh3d": [
           {
            "colorbar": {
             "outlinewidth": 0,
             "ticks": ""
            },
            "type": "mesh3d"
           }
          ],
          "parcoords": [
           {
            "line": {
             "colorbar": {
              "outlinewidth": 0,
              "ticks": ""
             }
            },
            "type": "parcoords"
           }
          ],
          "pie": [
           {
            "automargin": true,
            "type": "pie"
           }
          ],
          "scatter": [
           {
            "marker": {
             "colorbar": {
              "outlinewidth": 0,
              "ticks": ""
             }
            },
            "type": "scatter"
           }
          ],
          "scatter3d": [
           {
            "line": {
             "colorbar": {
              "outlinewidth": 0,
              "ticks": ""
             }
            },
            "marker": {
             "colorbar": {
              "outlinewidth": 0,
              "ticks": ""
             }
            },
            "type": "scatter3d"
           }
          ],
          "scattercarpet": [
           {
            "marker": {
             "colorbar": {
              "outlinewidth": 0,
              "ticks": ""
             }
            },
            "type": "scattercarpet"
           }
          ],
          "scattergeo": [
           {
            "marker": {
             "colorbar": {
              "outlinewidth": 0,
              "ticks": ""
             }
            },
            "type": "scattergeo"
           }
          ],
          "scattergl": [
           {
            "marker": {
             "colorbar": {
              "outlinewidth": 0,
              "ticks": ""
             }
            },
            "type": "scattergl"
           }
          ],
          "scattermapbox": [
           {
            "marker": {
             "colorbar": {
              "outlinewidth": 0,
              "ticks": ""
             }
            },
            "type": "scattermapbox"
           }
          ],
          "scatterpolar": [
           {
            "marker": {
             "colorbar": {
              "outlinewidth": 0,
              "ticks": ""
             }
            },
            "type": "scatterpolar"
           }
          ],
          "scatterpolargl": [
           {
            "marker": {
             "colorbar": {
              "outlinewidth": 0,
              "ticks": ""
             }
            },
            "type": "scatterpolargl"
           }
          ],
          "scatterternary": [
           {
            "marker": {
             "colorbar": {
              "outlinewidth": 0,
              "ticks": ""
             }
            },
            "type": "scatterternary"
           }
          ],
          "surface": [
           {
            "colorbar": {
             "outlinewidth": 0,
             "ticks": ""
            },
            "colorscale": [
             [
              0,
              "#0d0887"
             ],
             [
              0.1111111111111111,
              "#46039f"
             ],
             [
              0.2222222222222222,
              "#7201a8"
             ],
             [
              0.3333333333333333,
              "#9c179e"
             ],
             [
              0.4444444444444444,
              "#bd3786"
             ],
             [
              0.5555555555555556,
              "#d8576b"
             ],
             [
              0.6666666666666666,
              "#ed7953"
             ],
             [
              0.7777777777777778,
              "#fb9f3a"
             ],
             [
              0.8888888888888888,
              "#fdca26"
             ],
             [
              1,
              "#f0f921"
             ]
            ],
            "type": "surface"
           }
          ],
          "table": [
           {
            "cells": {
             "fill": {
              "color": "#EBF0F8"
             },
             "line": {
              "color": "white"
             }
            },
            "header": {
             "fill": {
              "color": "#C8D4E3"
             },
             "line": {
              "color": "white"
             }
            },
            "type": "table"
           }
          ]
         },
         "layout": {
          "annotationdefaults": {
           "arrowcolor": "#2a3f5f",
           "arrowhead": 0,
           "arrowwidth": 1
          },
          "autotypenumbers": "strict",
          "coloraxis": {
           "colorbar": {
            "outlinewidth": 0,
            "ticks": ""
           }
          },
          "colorscale": {
           "diverging": [
            [
             0,
             "#8e0152"
            ],
            [
             0.1,
             "#c51b7d"
            ],
            [
             0.2,
             "#de77ae"
            ],
            [
             0.3,
             "#f1b6da"
            ],
            [
             0.4,
             "#fde0ef"
            ],
            [
             0.5,
             "#f7f7f7"
            ],
            [
             0.6,
             "#e6f5d0"
            ],
            [
             0.7,
             "#b8e186"
            ],
            [
             0.8,
             "#7fbc41"
            ],
            [
             0.9,
             "#4d9221"
            ],
            [
             1,
             "#276419"
            ]
           ],
           "sequential": [
            [
             0,
             "#0d0887"
            ],
            [
             0.1111111111111111,
             "#46039f"
            ],
            [
             0.2222222222222222,
             "#7201a8"
            ],
            [
             0.3333333333333333,
             "#9c179e"
            ],
            [
             0.4444444444444444,
             "#bd3786"
            ],
            [
             0.5555555555555556,
             "#d8576b"
            ],
            [
             0.6666666666666666,
             "#ed7953"
            ],
            [
             0.7777777777777778,
             "#fb9f3a"
            ],
            [
             0.8888888888888888,
             "#fdca26"
            ],
            [
             1,
             "#f0f921"
            ]
           ],
           "sequentialminus": [
            [
             0,
             "#0d0887"
            ],
            [
             0.1111111111111111,
             "#46039f"
            ],
            [
             0.2222222222222222,
             "#7201a8"
            ],
            [
             0.3333333333333333,
             "#9c179e"
            ],
            [
             0.4444444444444444,
             "#bd3786"
            ],
            [
             0.5555555555555556,
             "#d8576b"
            ],
            [
             0.6666666666666666,
             "#ed7953"
            ],
            [
             0.7777777777777778,
             "#fb9f3a"
            ],
            [
             0.8888888888888888,
             "#fdca26"
            ],
            [
             1,
             "#f0f921"
            ]
           ]
          },
          "colorway": [
           "#636efa",
           "#EF553B",
           "#00cc96",
           "#ab63fa",
           "#FFA15A",
           "#19d3f3",
           "#FF6692",
           "#B6E880",
           "#FF97FF",
           "#FECB52"
          ],
          "font": {
           "color": "#2a3f5f"
          },
          "geo": {
           "bgcolor": "white",
           "lakecolor": "white",
           "landcolor": "#E5ECF6",
           "showlakes": true,
           "showland": true,
           "subunitcolor": "white"
          },
          "hoverlabel": {
           "align": "left"
          },
          "hovermode": "closest",
          "mapbox": {
           "style": "light"
          },
          "paper_bgcolor": "white",
          "plot_bgcolor": "#E5ECF6",
          "polar": {
           "angularaxis": {
            "gridcolor": "white",
            "linecolor": "white",
            "ticks": ""
           },
           "bgcolor": "#E5ECF6",
           "radialaxis": {
            "gridcolor": "white",
            "linecolor": "white",
            "ticks": ""
           }
          },
          "scene": {
           "xaxis": {
            "backgroundcolor": "#E5ECF6",
            "gridcolor": "white",
            "gridwidth": 2,
            "linecolor": "white",
            "showbackground": true,
            "ticks": "",
            "zerolinecolor": "white"
           },
           "yaxis": {
            "backgroundcolor": "#E5ECF6",
            "gridcolor": "white",
            "gridwidth": 2,
            "linecolor": "white",
            "showbackground": true,
            "ticks": "",
            "zerolinecolor": "white"
           },
           "zaxis": {
            "backgroundcolor": "#E5ECF6",
            "gridcolor": "white",
            "gridwidth": 2,
            "linecolor": "white",
            "showbackground": true,
            "ticks": "",
            "zerolinecolor": "white"
           }
          },
          "shapedefaults": {
           "line": {
            "color": "#2a3f5f"
           }
          },
          "ternary": {
           "aaxis": {
            "gridcolor": "white",
            "linecolor": "white",
            "ticks": ""
           },
           "baxis": {
            "gridcolor": "white",
            "linecolor": "white",
            "ticks": ""
           },
           "bgcolor": "#E5ECF6",
           "caxis": {
            "gridcolor": "white",
            "linecolor": "white",
            "ticks": ""
           }
          },
          "title": {
           "x": 0.05
          },
          "xaxis": {
           "automargin": true,
           "gridcolor": "white",
           "linecolor": "white",
           "ticks": "",
           "title": {
            "standoff": 15
           },
           "zerolinecolor": "white",
           "zerolinewidth": 2
          },
          "yaxis": {
           "automargin": true,
           "gridcolor": "white",
           "linecolor": "white",
           "ticks": "",
           "title": {
            "standoff": 15
           },
           "zerolinecolor": "white",
           "zerolinewidth": 2
          }
         }
        },
        "title": {
         "text": "<b> Redundant elif detector: Number of errors v. Task ID </b>",
         "x": 0.5
        },
        "xaxis": {
         "dtick": 5,
         "title": {
          "text": "Task ID"
         },
         "type": "linear"
        },
        "yaxis": {
         "dtick": 20,
         "title": {
          "text": "Number of errors"
         }
        }
       }
      }
     },
     "metadata": {},
     "output_type": "display_data"
    }
   ],
   "source": [
    "visualizer_redundant_elif_detector = Visualizer(\n",
    "    detector_name=\"Redundant elif detector\",\n",
    "    counter_task_solutions=runner_redundant_elif_detector.counter_task_solutions,\n",
    "    counter_task_errors=runner_redundant_elif_detector.counter_task_errors,\n",
    "    )\n",
    "\n",
    "fig_redundant_elif_detector = visualizer_redundant_elif_detector.display_visualization()"
   ]
  },
  {
   "cell_type": "code",
   "execution_count": 13,
   "metadata": {},
   "outputs": [],
   "source": [
    "import plotly.io as pio\n",
    "\n",
    "pio.write_html(fig_redundant_if_else_detector, file='redundant_if_else_detector.html', auto_open=True)\n",
    "pio.write_html(fig_redundant_elif_detector, file='redundant_elif_detector.html', auto_open=True)"
   ]
  },
  {
   "cell_type": "code",
   "execution_count": null,
   "metadata": {},
   "outputs": [],
   "source": []
  }
 ],
 "metadata": {
  "kernelspec": {
   "display_name": "Python 3.8.5 64-bit ('tensorflow': conda)",
   "name": "python38564bittensorflowconda5e6f479edcf44ef694c6a68356bf46a9"
  },
  "language_info": {
   "codemirror_mode": {
    "name": "ipython",
    "version": 3
   },
   "file_extension": ".py",
   "mimetype": "text/x-python",
   "name": "python",
   "nbconvert_exporter": "python",
   "pygments_lexer": "ipython3",
   "version": "3.8.5"
  },
  "metadata": {
   "interpreter": {
    "hash": "78c80fcd462987188a8a0f156bb3eae58925f14e22275f23f29d56bc15bddfa2"
   }
  },
  "orig_nbformat": 2
 },
 "nbformat": 4,
 "nbformat_minor": 2
}